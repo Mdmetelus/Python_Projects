{
 "cells": [
  {
   "cell_type": "code",
   "execution_count": 1,
   "metadata": {},
   "outputs": [
    {
     "name": "stdout",
     "output_type": "stream",
     "text": [
      "k: one, v: 1\n",
      "k: two, v: 2\n",
      "k: three, v: 3333\n",
      "k: four, v: 4\n",
      "k: five, v: 5\n"
     ]
    }
   ],
   "source": [
    "x = { 'one': 1, 'two': 2, 'three': 3, 'four': 4, 'five': 5 }\n",
    "x['three'] = 3333\n",
    "\n",
    "for k, v in x.items():\n",
    "    print('k: {}, v: {}'.format(k,v))"
   ]
  },
  {
   "cell_type": "code",
   "execution_count": 2,
   "metadata": {},
   "outputs": [
    {
     "name": "stdout",
     "output_type": "stream",
     "text": [
      "x is (1, 2, 3, 4, 5)\n",
      "<class 'tuple'>\n"
     ]
    }
   ],
   "source": [
    "x = (1,2,3,4,5) \n",
    "print('x is {}'.format(x))\n",
    "print(type(x))"
   ]
  },
  {
   "cell_type": "code",
   "execution_count": 6,
   "metadata": {},
   "outputs": [
    {
     "name": "stdout",
     "output_type": "stream",
     "text": [
      "x is (1, 'two', 3.0, [4, 'four'], 5)\n",
      "<class 'tuple'> 139832459981048\n",
      "<class 'list'> 139832481667720\n"
     ]
    }
   ],
   "source": [
    "x = (1,'two',3.0,[4,'four'],5) \n",
    "print('x is {}'.format(x))\n",
    "print(type(x), id(x))\n",
    "print(type(x[3]), id(x[3]))"
   ]
  },
  {
   "cell_type": "code",
   "execution_count": 13,
   "metadata": {},
   "outputs": [
    {
     "name": "stdout",
     "output_type": "stream",
     "text": [
      "<class 'tuple'> 139832459981224\n",
      "<class 'tuple'> 139832459981312\n",
      "<class 'int'> 10914496\n",
      "<class 'int'> 10914496\n",
      "yep\n",
      "Yess sir\n",
      "list found in the tuple!\n"
     ]
    }
   ],
   "source": [
    "x = (1,'two',3.0,[4,'four'],5) \n",
    "y = (1,'two',3.0,[4,'four'],5) \n",
    "print(type(x), id(x))\n",
    "print(type(y), id(y))\n",
    "print(type(x[0]), id(x[0]))\n",
    "print(type(y[0]), id(y[0]))\n",
    "\n",
    "if x[0] is y[0]:\n",
    "    print('yep')\n",
    "else:\n",
    "    print('nope')\n",
    "    \n",
    "if isinstance(x, tuple):\n",
    "    print('Yess sir')\n",
    "    if isinstance(x[3], list):\n",
    "        print('list found in the tuple!')\n",
    "elif isinstance(x, list):\n",
    "    print('list instance correct')\n",
    "else:\n",
    "    print('nope')\n",
    "    \n",
    "    "
   ]
  },
  {
   "cell_type": "code",
   "execution_count": 16,
   "metadata": {},
   "outputs": [
    {
     "name": "stdout",
     "output_type": "stream",
     "text": [
      "list instance correct\n",
      "list found in the list!\n"
     ]
    }
   ],
   "source": [
    "x = (1,'two',3.0,[4,'four'],5) \n",
    "y = [1,'two',3.0,[4,'four'],5]\n",
    "\n",
    "if isinstance(y, tuple):\n",
    "    print('Yess sir')\n",
    "    if isinstance(y[3], list):\n",
    "        print('list found in the tuple!')\n",
    "elif isinstance(y, list):\n",
    "    print('list instance correct')\n",
    "    if isinstance(y[3], list):\n",
    "        print('list found in the list!')\n",
    "else:\n",
    "    print('nope')"
   ]
  },
  {
   "cell_type": "markdown",
   "metadata": {},
   "source": [
    "Python conditional statments practice:"
   ]
  },
  {
   "cell_type": "code",
   "execution_count": 17,
   "metadata": {},
   "outputs": [
    {
     "name": "stdout",
     "output_type": "stream",
     "text": [
      "is true\n"
     ]
    }
   ],
   "source": [
    "if True:\n",
    "    print('is true')\n",
    "elif False:\n",
    "    print('elif, is false')\n",
    "else:\n",
    "    print('neither is true, alternative option.')\n",
    "        "
   ]
  },
  {
   "cell_type": "code",
   "execution_count": 18,
   "metadata": {},
   "outputs": [
    {
     "name": "stdout",
     "output_type": "stream",
     "text": [
      "five case true\n"
     ]
    }
   ],
   "source": [
    " x = 5\n",
    "# switch case example using python if elif conditional statments,\n",
    "    \n",
    "if x == 0:\n",
    "    print('zero case true')\n",
    "elif x == 1:\n",
    "    print('one case true')\n",
    "elif x == 2:\n",
    "    print('two case true')\n",
    "elif x == 3:\n",
    "    print('three case true')\n",
    "elif x == 4:\n",
    "    print('four case true')\n",
    "elif x == 5:\n",
    "    print('five case true')\n",
    "elif x == 6:\n",
    "    print('six case true')\n",
    "    "
   ]
  },
  {
   "cell_type": "code",
   "execution_count": 19,
   "metadata": {},
   "outputs": [
    {
     "name": "stdout",
     "output_type": "stream",
     "text": [
      "feed the bear now!\n"
     ]
    }
   ],
   "source": [
    "hungry = True\n",
    "x = 'feed the bear now!' if hungry else 'Do not feed the bear!'\n",
    "print (x)"
   ]
  },
  {
   "cell_type": "code",
   "execution_count": 20,
   "metadata": {},
   "outputs": [
    {
     "name": "stdout",
     "output_type": "stream",
     "text": [
      "Do not feed the bear!\n"
     ]
    }
   ],
   "source": [
    "hungry = False\n",
    "x = 'feed the bear now!' if hungry else 'Do not feed the bear!'\n",
    "print (x)"
   ]
  },
  {
   "cell_type": "markdown",
   "metadata": {},
   "source": [
    "Arithmetic operations:"
   ]
  },
  {
   "cell_type": "code",
   "execution_count": 21,
   "metadata": {},
   "outputs": [
    {
     "name": "stdout",
     "output_type": "stream",
     "text": [
      "The results for z are 8\n"
     ]
    }
   ],
   "source": [
    "x= 5\n",
    "y = 3\n",
    "z = x + y \n",
    "print(f'The results for z are {z}')"
   ]
  },
  {
   "cell_type": "code",
   "execution_count": 22,
   "metadata": {},
   "outputs": [
    {
     "name": "stdout",
     "output_type": "stream",
     "text": [
      "The results for z are 2\n"
     ]
    }
   ],
   "source": [
    "x= 5\n",
    "y = 3\n",
    "z = x - y \n",
    "print(f'The results for z are {z}')"
   ]
  },
  {
   "cell_type": "code",
   "execution_count": 23,
   "metadata": {},
   "outputs": [
    {
     "name": "stdout",
     "output_type": "stream",
     "text": [
      "The results for z are 1\n"
     ]
    }
   ],
   "source": [
    "x= 5\n",
    "y = 3\n",
    "z = x // y \n",
    "print(f'The results for z are {z}')"
   ]
  },
  {
   "cell_type": "code",
   "execution_count": 24,
   "metadata": {},
   "outputs": [
    {
     "name": "stdout",
     "output_type": "stream",
     "text": [
      "The results for z are 125\n"
     ]
    }
   ],
   "source": [
    "x= 5\n",
    "y = 3\n",
    "z = x ** y \n",
    "print(f'The results for z are {z}')"
   ]
  },
  {
   "cell_type": "code",
   "execution_count": 25,
   "metadata": {},
   "outputs": [
    {
     "name": "stdout",
     "output_type": "stream",
     "text": [
      "The results for z are 243\n"
     ]
    }
   ],
   "source": [
    "x= 5\n",
    "y = 3\n",
    "z = y ** x \n",
    "print(f'The results for z are {z}')"
   ]
  },
  {
   "cell_type": "code",
   "execution_count": 26,
   "metadata": {},
   "outputs": [
    {
     "name": "stdout",
     "output_type": "stream",
     "text": [
      "The results for z are 5\n"
     ]
    }
   ],
   "source": [
    "x= 5\n",
    "y = 3\n",
    "z = y = x \n",
    "print(f'The results for z are {z}')"
   ]
  },
  {
   "cell_type": "code",
   "execution_count": 27,
   "metadata": {},
   "outputs": [
    {
     "name": "stdout",
     "output_type": "stream",
     "text": [
      "The results for z are 3\n"
     ]
    }
   ],
   "source": [
    "x= 5\n",
    "y = 3\n",
    "z = y % x \n",
    "print(f'The results for z are {z}')"
   ]
  },
  {
   "cell_type": "markdown",
   "metadata": {},
   "source": [
    "Bitwise operators: and or etc."
   ]
  },
  {
   "cell_type": "markdown",
   "metadata": {},
   "source": [
    "& and, | or, ^ xor, << shift left, >> shift right,:"
   ]
  },
  {
   "cell_type": "code",
   "execution_count": 28,
   "metadata": {},
   "outputs": [
    {
     "name": "stdout",
     "output_type": "stream",
     "text": [
      "(hex) x is 0a, y is 02, z is 02\n",
      "(bin)  x is 00001010, y is 00000010, z is 00000010\n"
     ]
    }
   ],
   "source": [
    "x = 0x0a\n",
    "y = 0x02\n",
    "z = x & y\n",
    "print(f'(hex) x is {x:02x}, y is {y:02x}, z is {z:02x}')\n",
    "print(f'(bin)  x is {x:08b}, y is {y:08b}, z is {z:08b}')"
   ]
  },
  {
   "cell_type": "code",
   "execution_count": 29,
   "metadata": {},
   "outputs": [
    {
     "name": "stdout",
     "output_type": "stream",
     "text": [
      "(hex) x is 0a, y is 02, z is 0a\n",
      "(bin)  x is 00001010, y is 00000010, z is 00001010\n"
     ]
    }
   ],
   "source": [
    "x = 0x0a\n",
    "y = 0x02\n",
    "z = x | y\n",
    "print(f'(hex) x is {x:02x}, y is {y:02x}, z is {z:02x}')\n",
    "print(f'(bin)  x is {x:08b}, y is {y:08b}, z is {z:08b}')"
   ]
  },
  {
   "cell_type": "code",
   "execution_count": 30,
   "metadata": {},
   "outputs": [
    {
     "name": "stdout",
     "output_type": "stream",
     "text": [
      "(hex) x is 0a, y is 05, z is 0f\n",
      "(bin)  x is 00001010, y is 00000101, z is 00001111\n"
     ]
    }
   ],
   "source": [
    "x = 0x0a\n",
    "y = 0x05\n",
    "z = x | y\n",
    "print(f'(hex) x is {x:02x}, y is {y:02x}, z is {z:02x}')\n",
    "print(f'(bin)  x is {x:08b}, y is {y:08b}, z is {z:08b}')"
   ]
  },
  {
   "cell_type": "code",
   "execution_count": 32,
   "metadata": {},
   "outputs": [
    {
     "name": "stdout",
     "output_type": "stream",
     "text": [
      "(hex) x is 0a, y is 0f, z is 05\n",
      "(bin) x is 00001010, y is 00001111, z is 00000101\n"
     ]
    }
   ],
   "source": [
    "x = 0x0a\n",
    "y = 0x0f\n",
    "z = x ^ y\n",
    "print(f'(hex) x is {x:02x}, y is {y:02x}, z is {z:02x}')\n",
    "print(f'(bin) x is {x:08b}, y is {y:08b}, z is {z:08b}')"
   ]
  },
  {
   "cell_type": "code",
   "execution_count": 33,
   "metadata": {},
   "outputs": [
    {
     "name": "stdout",
     "output_type": "stream",
     "text": [
      "comparison is true\n"
     ]
    }
   ],
   "source": [
    "x = 42\n",
    "y = 73\n",
    "\n",
    "if x < y:\n",
    "    print('comparison is true')\n",
    "else:\n",
    "    print('comparison is false')\n",
    "    \n"
   ]
  },
  {
   "cell_type": "code",
   "execution_count": 34,
   "metadata": {},
   "outputs": [
    {
     "name": "stdout",
     "output_type": "stream",
     "text": [
      "comparison is false\n"
     ]
    }
   ],
   "source": [
    "x = 42\n",
    "y = 73\n",
    "\n",
    "if x > y:\n",
    "    print('comparison is true')\n",
    "else:\n",
    "    print('comparison is false')\n",
    "    \n"
   ]
  },
  {
   "cell_type": "code",
   "execution_count": 35,
   "metadata": {},
   "outputs": [
    {
     "name": "stdout",
     "output_type": "stream",
     "text": [
      "comparison is true\n"
     ]
    }
   ],
   "source": [
    "x = 42\n",
    "y = 42\n",
    "\n",
    "if x <= y:\n",
    "    print('comparison is true')\n",
    "else:\n",
    "    print('comparison is false')\n",
    "    \n"
   ]
  },
  {
   "cell_type": "code",
   "execution_count": 37,
   "metadata": {},
   "outputs": [
    {
     "name": "stdout",
     "output_type": "stream",
     "text": [
      "comparison is false\n"
     ]
    }
   ],
   "source": [
    "x = 42\n",
    "y = 73\n",
    "\n",
    "if x >= y:\n",
    "    print('comparison is true')\n",
    "else:\n",
    "    print('comparison is false')\n",
    "    \n"
   ]
  },
  {
   "cell_type": "code",
   "execution_count": 42,
   "metadata": {},
   "outputs": [
    {
     "name": "stdout",
     "output_type": "stream",
     "text": [
      "expression is false\n"
     ]
    }
   ],
   "source": [
    "a = True\n",
    "b = False\n",
    "x = ('bear', 'bunny', 'tree', 'sky', 'rain')\n",
    "y = 'bear'\n",
    "\n",
    "if a or b:\n",
    "    print('expression is true')\n",
    "else:\n",
    "    print('expression is false')\n",
    "#"
   ]
  },
  {
   "cell_type": "code",
   "execution_count": 43,
   "metadata": {},
   "outputs": [
    {
     "name": "stdout",
     "output_type": "stream",
     "text": [
      "expression is true\n"
     ]
    }
   ],
   "source": [
    "a = True\n",
    "b = False\n",
    "x = ('bear', 'bunny', 'tree', 'sky', 'rain')\n",
    "y = 'bear'\n",
    "\n",
    "if not b:\n",
    "    print('expression is true')\n",
    "else:\n",
    "    print('expression is false')\n",
    "#"
   ]
  },
  {
   "cell_type": "code",
   "execution_count": 44,
   "metadata": {},
   "outputs": [
    {
     "name": "stdout",
     "output_type": "stream",
     "text": [
      "expression is true\n"
     ]
    }
   ],
   "source": [
    "a = True\n",
    "b = False\n",
    "x = ('bear', 'bunny', 'tree', 'sky', 'rain')\n",
    "y = 'bear'\n",
    "\n",
    "if y in x:\n",
    "    print('expression is true')\n",
    "else:\n",
    "    print('expression is false')\n",
    "#"
   ]
  },
  {
   "cell_type": "code",
   "execution_count": 48,
   "metadata": {},
   "outputs": [
    {
     "name": "stdout",
     "output_type": "stream",
     "text": [
      "expression is false\n"
     ]
    }
   ],
   "source": [
    "a = True\n",
    "b = False\n",
    "x = ('bear', 'bunny', 'tree', 'sky', 'rain')\n",
    "y = 'bear'\n",
    "\n",
    "if y not in x:\n",
    "    print('expression is true')\n",
    "else:\n",
    "    print('expression is false')\n",
    "#"
   ]
  },
  {
   "cell_type": "code",
   "execution_count": 49,
   "metadata": {},
   "outputs": [
    {
     "name": "stdout",
     "output_type": "stream",
     "text": [
      "expression is false\n"
     ]
    }
   ],
   "source": [
    "a = True\n",
    "b = False\n",
    "x = ('bear', 'bunny', 'tree', 'sky', 'rain')\n",
    "y = 'bear'\n",
    "\n",
    "if not x:\n",
    "    print('expression is true')\n",
    "else:\n",
    "    print('expression is false')\n",
    "#"
   ]
  },
  {
   "cell_type": "code",
   "execution_count": 51,
   "metadata": {},
   "outputs": [
    {
     "name": "stdout",
     "output_type": "stream",
     "text": [
      "expression is true\n"
     ]
    }
   ],
   "source": [
    "a = True\n",
    "b = False\n",
    "x = ('bear', 'bunny', 'tree', 'sky', 'rain')\n",
    "y = 'bear'\n",
    "\n",
    "if 'tree' in x:\n",
    "    print('expression is true')\n",
    "else:\n",
    "    print('expression is false')\n",
    "#"
   ]
  },
  {
   "cell_type": "code",
   "execution_count": 53,
   "metadata": {},
   "outputs": [
    {
     "name": "stdout",
     "output_type": "stream",
     "text": [
      "expression is true\n",
      "139832459195592\n",
      "139832459195592\n"
     ]
    }
   ],
   "source": [
    "a = True\n",
    "b = False\n",
    "x = ('bear', 'bunny', 'tree', 'sky', 'rain')\n",
    "y = 'bear'\n",
    "\n",
    "if y is x[0]:\n",
    "    print('expression is true')\n",
    "else:\n",
    "    print('expression is false')\n",
    "#\n",
    "print(id(y))\n",
    "print(id(x[0]))"
   ]
  },
  {
   "cell_type": "code",
   "execution_count": 56,
   "metadata": {},
   "outputs": [
    {
     "name": "stdout",
     "output_type": "stream",
     "text": [
      "('bear', 'bunny', 'tree', 'sky', 'rain')\n"
     ]
    }
   ],
   "source": [
    "a = True\n",
    "b = False\n",
    "x = ('bear', 'bunny', 'tree', 'sky', 'rain')\n",
    "y = 'bear'\n",
    "print(x) if (2 + 2 == 4) else print(y)"
   ]
  },
  {
   "cell_type": "code",
   "execution_count": 57,
   "metadata": {},
   "outputs": [
    {
     "name": "stdout",
     "output_type": "stream",
     "text": [
      "bear\n"
     ]
    }
   ],
   "source": [
    "a = True\n",
    "b = False\n",
    "x = ('bear', 'bunny', 'tree', 'sky', 'rain')\n",
    "y = 'bear'\n",
    "print(x) if (2 + 2 != 4) else print(y)"
   ]
  },
  {
   "cell_type": "code",
   "execution_count": 59,
   "metadata": {},
   "outputs": [
    {
     "name": "stdout",
     "output_type": "stream",
     "text": [
      "('bear', 'bunny', 'tree', 'sky', 'rain')\n"
     ]
    }
   ],
   "source": [
    "a = True\n",
    "b = False\n",
    "x = ('bear', 'bunny', 'tree', 'sky', 'rain')\n",
    "y = 'bear'\n",
    "print(x) if (y == x[0]) else print(x, y)"
   ]
  },
  {
   "cell_type": "code",
   "execution_count": 60,
   "metadata": {},
   "outputs": [
    {
     "name": "stdout",
     "output_type": "stream",
     "text": [
      "expression is true\n"
     ]
    }
   ],
   "source": [
    "a = True\n",
    "b = False\n",
    "x = ('bear', 'bunny', 'tree', 'sky', 'rain')\n",
    "y = 'bear'\n",
    "if y is not x[1]:\n",
    "    print('expression is true')\n",
    "else:\n",
    "    print('expression is false')"
   ]
  },
  {
   "cell_type": "markdown",
   "metadata": {},
   "source": [
    "Loops, While and For:"
   ]
  },
  {
   "cell_type": "code",
   "execution_count": 61,
   "metadata": {},
   "outputs": [
    {
     "name": "stdout",
     "output_type": "stream",
     "text": [
      "What is the secret password/ word? stuff\n",
      "What is the secret password/ word? idk\n",
      "What is the secret password/ word? secret\n",
      "What is the secret password/ word? swordfish\n"
     ]
    }
   ],
   "source": [
    "secret = 'swordfish'\n",
    "pw = ''\n",
    "\n",
    "while pw != secret:\n",
    "    pw = input('What is the secret password/ word? ')"
   ]
  },
  {
   "cell_type": "code",
   "execution_count": 63,
   "metadata": {},
   "outputs": [
    {
     "name": "stdout",
     "output_type": "stream",
     "text": [
      "bear\n",
      "bunny\n",
      "dog\n",
      "cat\n",
      "velociraptor\n"
     ]
    }
   ],
   "source": [
    "animals = ('bear', 'bunny', 'dog', 'cat', 'velociraptor')\n",
    "\n",
    "for pet in animals:\n",
    "    print(pet)"
   ]
  },
  {
   "cell_type": "code",
   "execution_count": 66,
   "metadata": {},
   "outputs": [
    {
     "name": "stdout",
     "output_type": "stream",
     "text": [
      "5\n",
      "11\n",
      "17\n",
      "23\n",
      "29\n",
      "35\n",
      "41\n",
      "47\n",
      "53\n",
      "59\n",
      "65\n"
     ]
    }
   ],
   "source": [
    "for i in range(5,70,6):\n",
    "    print(i)"
   ]
  },
  {
   "cell_type": "code",
   "execution_count": 67,
   "metadata": {},
   "outputs": [
    {
     "name": "stdout",
     "output_type": "stream",
     "text": [
      "5\n",
      "17\n",
      "29\n",
      "41\n",
      "53\n",
      "65\n"
     ]
    }
   ],
   "source": [
    "for i in range(5,70,12):\n",
    "    print(i)"
   ]
  },
  {
   "cell_type": "code",
   "execution_count": 72,
   "metadata": {},
   "outputs": [
    {
     "name": "stdout",
     "output_type": "stream",
     "text": [
      "1: What's the secret word? s\n",
      "2: What's the secret word? s\n",
      "3: What's the secret word? s\n",
      "4: What's the secret word? ss\n",
      "5: What's the secret word? s\n",
      "Out of chances\n"
     ]
    }
   ],
   "source": [
    "secret = 'swordfish'\n",
    "pw = ''\n",
    "auth = False\n",
    "count = 0\n",
    "max_attempts = 5\n",
    "\n",
    "while pw != secret and count < max_attempts:\n",
    "    count += 1\n",
    "    pw = input(f\"{count}: What's the secret word? \")\n",
    "    \n",
    "print ('Out of chances!')"
   ]
  },
  {
   "cell_type": "code",
   "execution_count": 78,
   "metadata": {},
   "outputs": [
    {
     "name": "stdout",
     "output_type": "stream",
     "text": [
      "1: What's the secret word? swordfish\n",
      "Thank you for nswering correctly. \n",
      " You Are...\n",
      "Autorized!\n"
     ]
    }
   ],
   "source": [
    "secret = 'swordfish'\n",
    "pw = ''\n",
    "auth = False\n",
    "count = 0\n",
    "max_attempts = 5\n",
    "\n",
    "while pw != secret:\n",
    "    count += 1\n",
    "    if count > max_attempts:\n",
    "        print('Out of chances!')\n",
    "        break\n",
    "    if count == 3: continue\n",
    "    pw = input(f\"{count}: What's the secret word? \")\n",
    "else:\n",
    "    auth = True\n",
    "    print('Thank you for nswering correctly. \\n You Are...')\n",
    "    \n",
    "print('Autorized!' if auth else 'Calling the FBI .....')"
   ]
  },
  {
   "cell_type": "code",
   "execution_count": 82,
   "metadata": {},
   "outputs": [
    {
     "name": "stdout",
     "output_type": "stream",
     "text": [
      "bear\n",
      "bunny\n",
      "cat\n",
      "velociraptor\n",
      "that is all of the animals! \n",
      " Have  nice day!\n"
     ]
    }
   ],
   "source": [
    "animals = ('bear', 'bunny', 'dog', 'cat','velociraptor')\n",
    "\n",
    "for pet in animals:\n",
    "    if pet == 'dog': continue\n",
    "    #if pet == 'velociraptor': break\n",
    "    print(pet)\n",
    "else:\n",
    "    print('that is all of the animals! \\n Have  nice day!')"
   ]
  },
  {
   "cell_type": "code",
   "execution_count": 83,
   "metadata": {},
   "outputs": [
    {
     "name": "stdout",
     "output_type": "stream",
     "text": [
      "Meow!\n"
     ]
    }
   ],
   "source": [
    "def main():\n",
    "    kitten()\n",
    "    \n",
    "def kitten():\n",
    "    print ('Meow!')\n",
    "    \n",
    "if __name__ == '__main__': main()"
   ]
  },
  {
   "cell_type": "code",
   "execution_count": 84,
   "metadata": {},
   "outputs": [
    {
     "name": "stdout",
     "output_type": "stream",
     "text": [
      "3 Meow!\n"
     ]
    }
   ],
   "source": [
    "def main():\n",
    "    kitten(3)\n",
    "    \n",
    "def kitten(n):\n",
    "    print (f'{n} Meow!')\n",
    "    \n",
    "if __name__ == '__main__': main()"
   ]
  },
  {
   "cell_type": "code",
   "execution_count": 85,
   "metadata": {},
   "outputs": [
    {
     "name": "stdout",
     "output_type": "stream",
     "text": [
      "Meow!\n",
      "None\n"
     ]
    }
   ],
   "source": [
    "def main():\n",
    "    x = kitten()\n",
    "    print(x)\n",
    "    \n",
    "def kitten():\n",
    "    print ('Meow!')\n",
    "    \n",
    "if __name__ == '__main__': main()"
   ]
  },
  {
   "cell_type": "code",
   "execution_count": 88,
   "metadata": {},
   "outputs": [
    {
     "name": "stdout",
     "output_type": "stream",
     "text": [
      "\"Meow,\" said the Cat.\n",
      "5 6 7\n"
     ]
    }
   ],
   "source": [
    "def main():\n",
    "    kitten(5, 6 ,7)\n",
    "    \n",
    "def kitten(a, b, c):\n",
    "    print ('\"Meow,\" said the Cat.')\n",
    "    print(a, b, c)\n",
    "    \n",
    "if __name__ == '__main__': main()"
   ]
  },
  {
   "cell_type": "code",
   "execution_count": 96,
   "metadata": {},
   "outputs": [
    {
     "name": "stdout",
     "output_type": "stream",
     "text": [
      "10914624 is the id for x\n",
      "10914624 is the id for a\n",
      "10914560 is the id for a\n",
      "\"Meow,\" said the Cat.\n",
      "in kitten a is 3\n",
      "in main: x is 5\n"
     ]
    }
   ],
   "source": [
    "def main():\n",
    "    x = 5\n",
    "    print(id(x), 'is the id for x')\n",
    "    kitten(x)\n",
    "    print(f'in main: x is {x}')\n",
    "    \n",
    "def kitten(a):\n",
    "    print(id(a),'is the id for a')\n",
    "    a = 3\n",
    "    print(id(a),'is the id for a')\n",
    "    print ('\"Meow,\" said the Cat.')\n",
    "    print(f'in kitten a is {a}')\n",
    "    \n",
    "if __name__ == '__main__': main()"
   ]
  },
  {
   "cell_type": "code",
   "execution_count": 97,
   "metadata": {},
   "outputs": [
    {
     "name": "stdout",
     "output_type": "stream",
     "text": [
      "meow\n",
      "grrr\n",
      "purr\n"
     ]
    }
   ],
   "source": [
    "def main():\n",
    "    kitten('meow', 'grrr', 'purr')\n",
    "    \n",
    "def kitten(*args):\n",
    "    if len(args):\n",
    "        for s in args:\n",
    "            print(s)\n",
    "    else: print('Meow.')\n",
    "\n",
    "if __name__ == '__main__': main()\n",
    "\n",
    "# it is traditional to name your list args\n",
    "#(*args) is a list, and can be any number of arguments.\n",
    "# len(args) == more than 0"
   ]
  },
  {
   "cell_type": "code",
   "execution_count": 98,
   "metadata": {},
   "outputs": [
    {
     "name": "stdout",
     "output_type": "stream",
     "text": [
      "Meow.\n"
     ]
    }
   ],
   "source": [
    "def main():\n",
    "    kitten()\n",
    "    \n",
    "def kitten(*args):\n",
    "    if len(args):\n",
    "        for s in args:\n",
    "            print(s)\n",
    "    else: print('Meow.')\n",
    "\n",
    "if __name__ == '__main__': main()"
   ]
  },
  {
   "cell_type": "code",
   "execution_count": 99,
   "metadata": {},
   "outputs": [
    {
     "name": "stdout",
     "output_type": "stream",
     "text": [
      "meow\n",
      "grrr\n",
      "purr\n",
      "hello nurse\n",
      "hello world\n"
     ]
    }
   ],
   "source": [
    "def main():\n",
    "    x = ('meow', 'grrr', 'purr', 'hello nurse', 'hello world')\n",
    "    kitten(*x)\n",
    "    \n",
    "def kitten(*args):\n",
    "    if len(args):\n",
    "        for s in args:\n",
    "            print(s)\n",
    "    else: print('Meow.')\n",
    "\n",
    "if __name__ == '__main__': main()"
   ]
  },
  {
   "cell_type": "code",
   "execution_count": 103,
   "metadata": {},
   "outputs": [
    {
     "name": "stdout",
     "output_type": "stream",
     "text": [
      "Kitten Buffy says meow!\n",
      "Kitten Zilla says grr!\n",
      "Kitten Angel says rawr!\n"
     ]
    }
   ],
   "source": [
    "#!/usr/bin/env python3\n",
    "#Copyright 2009-2017 BHG http://bw.org/\n",
    "\n",
    "def main():\n",
    "    kitten(Buffy = 'meow', Zilla = 'grr', Angel = 'rawr')\n",
    "    \n",
    "def kitten(**kwargs):\n",
    "    if len(kwargs):\n",
    "        for k in kwargs:\n",
    "            print('Kitten {} says {}!'.format(k, kwargs[k]))\n",
    "    else:\n",
    "        print('Meow Man!')\n",
    "        \n",
    "if __name__ == '__main__': main()"
   ]
  },
  {
   "cell_type": "code",
   "execution_count": 104,
   "metadata": {},
   "outputs": [
    {
     "name": "stdout",
     "output_type": "stream",
     "text": [
      "Kitten Buffy says meow!\n",
      "Kitten Zilla says grr!\n",
      "Kitten Angel says rawr!\n"
     ]
    }
   ],
   "source": [
    "\n",
    "def main():\n",
    "    x = dict(Buffy = 'meow', Zilla = 'grr', Angel = 'rawr')\n",
    "    kitten(**x)\n",
    "    \n",
    "def kitten(**kwargs):\n",
    "    if len(kwargs):\n",
    "        for k in kwargs:\n",
    "            print('Kitten {} says {}!'.format(k, kwargs[k]))\n",
    "    else:\n",
    "        print('Meow Man!')\n",
    "        \n",
    "if __name__ == '__main__': main()"
   ]
  },
  {
   "cell_type": "code",
   "execution_count": 106,
   "metadata": {},
   "outputs": [
    {
     "name": "stdout",
     "output_type": "stream",
     "text": [
      "Meow.\n",
      "<class 'float'> 42.44\n"
     ]
    }
   ],
   "source": [
    "def main():\n",
    "    x = kitten()\n",
    "    print(type(x), x)\n",
    "    \n",
    "def kitten():\n",
    "    print('Meow.')\n",
    "    return 42.44\n",
    "    \n",
    "if __name__ == '__main__': main()"
   ]
  },
  {
   "cell_type": "code",
   "execution_count": 107,
   "metadata": {},
   "outputs": [
    {
     "name": "stdout",
     "output_type": "stream",
     "text": [
      "Meow.\n",
      "<class 'list'> [42, 43, 44]\n"
     ]
    }
   ],
   "source": [
    "def main():\n",
    "    x = kitten()\n",
    "    print(type(x), x)\n",
    "    \n",
    "def kitten():\n",
    "    print('Meow.')\n",
    "    return [42,43,44]\n",
    "    \n",
    "if __name__ == '__main__': main()"
   ]
  },
  {
   "cell_type": "code",
   "execution_count": 108,
   "metadata": {},
   "outputs": [
    {
     "name": "stdout",
     "output_type": "stream",
     "text": [
      "Meow.\n",
      "<class 'dict'> {'x': 42, 'y': 43, 'z': 44}\n"
     ]
    }
   ],
   "source": [
    "def main():\n",
    "    x = kitten()\n",
    "    print(type(x), x)\n",
    "    \n",
    "def kitten():\n",
    "    print('Meow.')\n",
    "    return dict(x = 42, y = 43, z = 44)\n",
    "    \n",
    "if __name__ == '__main__': main()"
   ]
  },
  {
   "cell_type": "markdown",
   "metadata": {},
   "source": [
    "Generator practice:\n",
    "    "
   ]
  },
  {
   "cell_type": "code",
   "execution_count": 116,
   "metadata": {},
   "outputs": [
    {
     "name": "stdout",
     "output_type": "stream",
     "text": [
      "0 1 2 3 4 5 6 7 8 9 10 11 12 13 14 15 16 17 18 19 20 21 22 23 24 25 26 27 28 29 30 31 32 33 34 35 36 37 38 39 40 41 42 43 44 \n"
     ]
    }
   ],
   "source": [
    "def main():\n",
    "    for i in inclusive_range(44):\n",
    "        print(i, end = ' ')\n",
    "    print()\n",
    "\n",
    "def inclusive_range(*args):\n",
    "    numargs = len(args)\n",
    "    start = 0\n",
    "    step = 1\n",
    "    \n",
    "    #initialize paramiters\n",
    "    if numargs < 1:\n",
    "        raise TypeError(f'expected at least 1 argument, got {numargs}')\n",
    "    elif numargs == 1:\n",
    "        stop = args[0]\n",
    "    elif numargs == 2:\n",
    "        (start, stop) = args\n",
    "    elif numargs == 3:\n",
    "        (start, stop, step) = args\n",
    "    else:\n",
    "        raise TypeError(f'expected at most 3 arguments, got {numargs}')\n",
    "        \n",
    "    #generator\n",
    "    i = start\n",
    "    while i <= stop:\n",
    "        yield i #yeild is like return but for a generator\n",
    "        i += step\n",
    "        \n",
    "#yeild is like return but for a generator\n",
    "# (it yields the value,then allows the function to continue; \n",
    "# until it yeids the next value).\n",
    "    \n",
    "if __name__ == '__main__': main()"
   ]
  },
  {
   "cell_type": "markdown",
   "metadata": {},
   "source": [
    "Decorator:"
   ]
  },
  {
   "cell_type": "code",
   "execution_count": 117,
   "metadata": {},
   "outputs": [
    {
     "name": "stdout",
     "output_type": "stream",
     "text": [
      "a\n",
      "this is f1\n"
     ]
    }
   ],
   "source": [
    "print('a')\n",
    "def f1():\n",
    "    print('this is f1')\n",
    "f1()"
   ]
  },
  {
   "cell_type": "code",
   "execution_count": 118,
   "metadata": {},
   "outputs": [
    {
     "name": "stdout",
     "output_type": "stream",
     "text": [
      "this is f1\n"
     ]
    }
   ],
   "source": [
    "def f1():\n",
    "    print('this is f1')\n",
    "x = f1\n",
    "x()"
   ]
  },
  {
   "cell_type": "code",
   "execution_count": 119,
   "metadata": {},
   "outputs": [
    {
     "name": "stdout",
     "output_type": "stream",
     "text": [
      "this is f2\n"
     ]
    }
   ],
   "source": [
    "def f1():\n",
    "    def f2():\n",
    "        print('this is f2')\n",
    "    return f2\n",
    "\n",
    "\n",
    "x = f1()\n",
    "x()"
   ]
  },
  {
   "cell_type": "code",
   "execution_count": 122,
   "metadata": {},
   "outputs": [
    {
     "name": "stdout",
     "output_type": "stream",
     "text": [
      "this is before the function call in f2\n",
      "this is f3, shaq-an-a-fool!! in f3\n",
      "this is after the function call in f2\n"
     ]
    }
   ],
   "source": [
    "def f1(f):\n",
    "    def f2():\n",
    "        print('this is before the function call', 'in f2')\n",
    "        f()\n",
    "        print('this is after the function call', 'in f2')\n",
    "    return f2\n",
    "\n",
    "def f3():\n",
    "    print('this is f3, shaq-an-a-fool!!', \"in f3\")\n",
    "x = f1(f3)\n",
    "x()"
   ]
  },
  {
   "cell_type": "code",
   "execution_count": 123,
   "metadata": {},
   "outputs": [
    {
     "name": "stdout",
     "output_type": "stream",
     "text": [
      "this is before the function call in f2\n",
      "this is f3, shaq-an-a-fool!! in f3\n",
      "this is after the function call in f2\n"
     ]
    }
   ],
   "source": [
    "def f1(f):\n",
    "    def f2():\n",
    "        print('this is before the function call', 'in f2')\n",
    "        f()\n",
    "        print('this is after the function call', 'in f2')\n",
    "    return f2\n",
    "\n",
    "def f3():\n",
    "    print('this is f3, shaq-an-a-fool!!', \"in f3\")\n",
    "f3 = f1(f3)\n",
    "f3()"
   ]
  },
  {
   "cell_type": "code",
   "execution_count": 124,
   "metadata": {},
   "outputs": [
    {
     "name": "stdout",
     "output_type": "stream",
     "text": [
      "this is before the function call in f2\n",
      "this is f3, shaq-an-a-fool!! in f3\n",
      "this is after the function call in f2\n"
     ]
    }
   ],
   "source": [
    "def f1(f):\n",
    "    def f2():\n",
    "        print('this is before the function call', 'in f2')\n",
    "        f()\n",
    "        print('this is after the function call', 'in f2')\n",
    "    return f2\n",
    "\n",
    "@f1    #the decorator\n",
    "def f3():    #the function definition(must come right after the decorator).\n",
    "    print('this is f3, shaq-an-a-fool!!', \"in f3\")\n",
    "f3()\n"
   ]
  },
  {
   "cell_type": "code",
   "execution_count": 125,
   "metadata": {},
   "outputs": [],
   "source": [
    "#list type: (mutable).\n",
    "x = [1, 2, 3, 4, 5]\n",
    "\n",
    "#tuple type: (imutable).\n",
    "y =(1, 2, 3, 4, 5)\n",
    "\n",
    "# dictionary type: (also called associative array/hashed array)\n",
    "z = {'a': 1, 'b': 2, 'c': 3, 'd': 4, 'e': 5}\n",
    "\n",
    "#Set type\n",
    "a = { 1, 2, 3, 4, 5}\n"
   ]
  },
  {
   "cell_type": "code",
   "execution_count": 137,
   "metadata": {},
   "outputs": [
    {
     "name": "stdout",
     "output_type": "stream",
     "text": [
      "Paper\n",
      "Rock, Paper, Sissors, Lizzard, Spock, \n"
     ]
    }
   ],
   "source": [
    "def main():\n",
    "    game = ['Rock', 'Paper', 'Sissors', 'Lizzard', 'Spock']\n",
    "    print(game[1])\n",
    "    print_list(game)\n",
    "    \n",
    "def print_list(o):\n",
    "    for i in o: print(i, end=', ', flush=True)\n",
    "    print()\n",
    "\n",
    "if __name__== '__main__': main()"
   ]
  },
  {
   "cell_type": "code",
   "execution_count": 144,
   "metadata": {},
   "outputs": [
    {
     "name": "stdout",
     "output_type": "stream",
     "text": [
      "['Sissors', 'Lizzard']\n",
      "['Paper', 'Lizzard']\n",
      "Rock, Paper, Sissors, Lizzard, Spock, \n"
     ]
    }
   ],
   "source": [
    "def main():\n",
    "    game = ['Rock', 'Paper', 'Sissors', 'Lizzard', 'Spock']\n",
    "    print(game[2:4])\n",
    "    print(game[1:5:2])\n",
    "    #print(game[0], game[3], game[5])\n",
    "    print_list(game)\n",
    "    \n",
    "def print_list(o):\n",
    "    for i in o: print(i, end=', ', flush=True)\n",
    "    print()\n",
    "\n",
    "if __name__== '__main__': main()"
   ]
  },
  {
   "cell_type": "code",
   "execution_count": 143,
   "metadata": {},
   "outputs": [
    {
     "name": "stdout",
     "output_type": "stream",
     "text": [
      "Paper\n"
     ]
    }
   ],
   "source": [
    "def main():\n",
    "    game = ['Rock', 'Paper', 'Sissors', 'Lizzard', 'Spock']\n",
    "    i = game.index('Paper')\n",
    "    print(game[i])\n",
    "    #print_list(game)\n",
    "    \n",
    "def print_list(o):\n",
    "    for i in o: print(i, end=', ', flush=True)\n",
    "    print()\n",
    "\n",
    "if __name__== '__main__': main()"
   ]
  },
  {
   "cell_type": "code",
   "execution_count": 146,
   "metadata": {},
   "outputs": [
    {
     "name": "stdout",
     "output_type": "stream",
     "text": [
      "Rock Sissors Spock\n"
     ]
    }
   ],
   "source": [
    "def main():\n",
    "    game = ['Rock', 'Paper', 'Sissors', 'Lizzard', 'Spock']\n",
    "    print(game[0], game[2], game[4])\n",
    "    \n",
    "    \n",
    "def print_list(o):\n",
    "    for i in o: print(i, end=', ', flush=True)\n",
    "    print()\n",
    "\n",
    "if __name__== '__main__': main()"
   ]
  },
  {
   "cell_type": "code",
   "execution_count": 156,
   "metadata": {},
   "outputs": [
    {
     "name": "stdout",
     "output_type": "stream",
     "text": [
      "Rock, Paper, Sissors, Lizzard, Spock, \n",
      "Rock, Paper, Sissors, Lizzard, Spock, Computer, \n",
      "Maxamillie starts the list, Rock, Paper, Sissors, Lizzard, Spock, Computer, Raptors, \n",
      "Rock, Paper, Sissors, Lizzard, Spock, Computer, Raptors, \n",
      "Rock, Paper, Sissors, Lizzard, Spock, Computer, \n",
      "Raptors\n"
     ]
    }
   ],
   "source": [
    "def main():\n",
    "    game = ['Rock', 'Paper', 'Sissors', 'Lizzard', 'Spock']\n",
    "    print_list(game)\n",
    "    game.append('Computer')\n",
    "    print_list(game)\n",
    "    game.insert(0, 'Maxamillie starts the list')\n",
    "    game.append('Raptors')\n",
    "    print_list(game)\n",
    "    game.remove('Maxamillie starts the list')\n",
    "    print_list(game)  \n",
    "    gone = game.pop()\n",
    "    print_list(game)\n",
    "    print(gone)\n",
    "\n",
    "    \n",
    "    \n",
    "def print_list(o):\n",
    "    for i in o: print(i, end=', ', flush=True)\n",
    "    print()\n",
    "\n",
    "if __name__== '__main__': main()"
   ]
  },
  {
   "cell_type": "code",
   "execution_count": 159,
   "metadata": {},
   "outputs": [
    {
     "name": "stdout",
     "output_type": "stream",
     "text": [
      "Rock_Son, \n",
      "Paper_Son, \n",
      "Sissors_Son, \n",
      "Lizzard_Son, \n",
      "Spock\n",
      "Rock Paper Sissors Lizzard Spock \n",
      "Rock! \n",
      "\n",
      "Paper! \n",
      "\n",
      "Sissors! \n",
      "\n",
      "Lizzard! \n",
      "\n",
      "Spock\n"
     ]
    }
   ],
   "source": [
    "def main():\n",
    "    game = ['Rock', 'Paper', 'Sissors', 'Lizzard', 'Spock']\n",
    "    print('_Son, \\n'.join(game))\n",
    "    print_list(game)\n",
    "    print('! \\n\\n'.join(game))\n",
    "    \n",
    "def print_list(o):\n",
    "    for i in o: print(i, end=' ', flush=True)\n",
    "    print()\n",
    "\n",
    "if __name__== '__main__': main()"
   ]
  },
  {
   "cell_type": "code",
   "execution_count": null,
   "metadata": {},
   "outputs": [],
   "source": []
  }
 ],
 "metadata": {
  "kernelspec": {
   "display_name": "Python 3",
   "language": "python",
   "name": "python3"
  },
  "language_info": {
   "codemirror_mode": {
    "name": "ipython",
    "version": 3
   },
   "file_extension": ".py",
   "mimetype": "text/x-python",
   "name": "python",
   "nbconvert_exporter": "python",
   "pygments_lexer": "ipython3",
   "version": "3.7.7"
  }
 },
 "nbformat": 4,
 "nbformat_minor": 2
}
