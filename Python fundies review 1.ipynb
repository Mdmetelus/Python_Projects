{
 "cells": [
  {
   "cell_type": "code",
   "execution_count": 1,
   "metadata": {},
   "outputs": [
    {
     "name": "stdout",
     "output_type": "stream",
     "text": [
      "Hi\n"
     ]
    }
   ],
   "source": [
    " \n",
    "print(\"Hi\")"
   ]
  },
  {
   "cell_type": "code",
   "execution_count": 2,
   "metadata": {},
   "outputs": [
    {
     "name": "stdout",
     "output_type": "stream",
     "text": [
      "ni ni ni\n"
     ]
    }
   ],
   "source": [
    " \n",
    "print('ni ni ni')"
   ]
  },
  {
   "cell_type": "code",
   "execution_count": 3,
   "metadata": {},
   "outputs": [
    {
     "name": "stdout",
     "output_type": "stream",
     "text": [
      "4\n",
      "6\n",
      "6\n",
      "14\n",
      "5.0\n",
      "6.0\n",
      "11.0\n"
     ]
    }
   ],
   "source": [
    "print(2 + 2)\n",
    "print(5 + 4 - 3)\n",
    "print(1 + 2 + 3)\n",
    "print( 2 * (3 + 4) )\n",
    "print( 10 / 2 )\n",
    "print((4 + 8) / 2)\n",
    "print(11 / 1)"
   ]
  },
  {
   "cell_type": "code",
   "execution_count": 4,
   "metadata": {},
   "outputs": [
    {
     "name": "stdout",
     "output_type": "stream",
     "text": [
      "-111.0\n"
     ]
    }
   ],
   "source": [
    "print((17 + 94) / (-5 + 4))\n"
   ]
  },
  {
   "cell_type": "code",
   "execution_count": 5,
   "metadata": {},
   "outputs": [
    {
     "name": "stdout",
     "output_type": "stream",
     "text": [
      "0.75\n",
      "4.0\n",
      "42.0\n",
      "5.65\n"
     ]
    }
   ],
   "source": [
    "print( 3/4 )\n",
    "print( 8 / 2 )\n",
    "\n",
    "print( 6 * 7.0 )\n",
    "\n",
    "print( 4 + 1.65 )"
   ]
  },
  {
   "cell_type": "code",
   "execution_count": 6,
   "metadata": {},
   "outputs": [
    {
     "name": "stdout",
     "output_type": "stream",
     "text": [
      "15.0\n"
     ]
    }
   ],
   "source": [
    "print(1 + 2 + 3 + 4.0 + 5)"
   ]
  },
  {
   "cell_type": "code",
   "execution_count": 10,
   "metadata": {},
   "outputs": [
    {
     "name": "stdout",
     "output_type": "stream",
     "text": [
      "32\n",
      "3.0\n",
      "16\n"
     ]
    }
   ],
   "source": [
    "print( 2**5 )\n",
    "print(9 ** (1/2))\n",
    "print((1 + 3)**2)"
   ]
  },
  {
   "cell_type": "code",
   "execution_count": 11,
   "metadata": {},
   "outputs": [
    {
     "name": "stdout",
     "output_type": "stream",
     "text": [
      "3\n",
      "2\n"
     ]
    }
   ],
   "source": [
    "# Quotient\n",
    "\n",
    "# Floor division is done using two forward slashes and is used to determine the quotient of a division (the quantity produced by the division of two numbers)\n",
    "print( 20 // 6 ) \n",
    "print( 5//2)"
   ]
  },
  {
   "cell_type": "code",
   "execution_count": 12,
   "metadata": {},
   "outputs": [
    {
     "name": "stdout",
     "output_type": "stream",
     "text": [
      "2\n",
      "0.25\n",
      "1\n"
     ]
    }
   ],
   "source": [
    "print(20 % 6)\n",
    "print(1.25 % 0.5) \n",
    "print(7%(5 // 2))"
   ]
  },
  {
   "cell_type": "code",
   "execution_count": 13,
   "metadata": {},
   "outputs": [
    {
     "name": "stdout",
     "output_type": "stream",
     "text": [
      "Python is fun!\n",
      "Always look on the bright side of life\n",
      "Hello world\n",
      "Brian's mother: He's not an angel. He's a very naughty boy!\n",
      "One \n",
      "Two \n",
      "Three\n",
      "this is a multiline text\n"
     ]
    }
   ],
   "source": [
    "print(\"Python is fun!\")\n",
    "print('Always look on the bright side of life')\n",
    "print(\"Hello world\")\n",
    "print('Brian\\'s mother: He\\'s not an angel. He\\'s a very naughty boy!')\n",
    "print('One \\nTwo \\nThree')\n",
    "print(\"\"\"this is a multiline text\"\"\")"
   ]
  },
  {
   "cell_type": "code",
   "execution_count": 14,
   "metadata": {},
   "outputs": [
    {
     "name": "stdout",
     "output_type": "stream",
     "text": [
      "Hello \n",
      " world\n",
      "Spameggs\n",
      "HelloWorld\n",
      "22\n"
     ]
    }
   ],
   "source": [
    "print(\"Hello \\n world\")\n",
    "print(\"Spam\" + 'eggs')\n",
    "print(\"Hello\" + \"World\")\n",
    "print(\"2\" + \"2\")"
   ]
  },
  {
   "cell_type": "code",
   "execution_count": 15,
   "metadata": {},
   "outputs": [
    {
     "name": "stdout",
     "output_type": "stream",
     "text": [
      "spamspamspam\n",
      "2222\n",
      "777\n",
      "James\n"
     ]
    }
   ],
   "source": [
    "print(\"spam\" * 3)\n",
    "print(4 * '2')\n",
    "print(3 * '7')\n",
    "user = \"James\"\n",
    "print(user)"
   ]
  },
  {
   "cell_type": "code",
   "execution_count": 16,
   "metadata": {},
   "outputs": [
    {
     "name": "stdout",
     "output_type": "stream",
     "text": [
      "eggseggseggs\n",
      "123.456\n",
      "This is a string!\n"
     ]
    }
   ],
   "source": [
    "spam = \"eggs\"\n",
    "print(spam * 3)\n",
    "x = 123.456\n",
    "print(x)\n",
    "\n",
    "x = \"This is a string\"\n",
    "print(x + \"!\")"
   ]
  },
  {
   "cell_type": "code",
   "execution_count": 17,
   "metadata": {},
   "outputs": [
    {
     "name": "stdout",
     "output_type": "stream",
     "text": [
      "12\n"
     ]
    },
    {
     "ename": "NameError",
     "evalue": "name 'foo' is not defined",
     "output_type": "error",
     "traceback": [
      "\u001b[0;31m---------------------------------------------------------------------------\u001b[0m",
      "\u001b[0;31mNameError\u001b[0m                                 Traceback (most recent call last)",
      "\u001b[0;32m<ipython-input-17-3824a8a1c648>\u001b[0m in \u001b[0;36m<module>\u001b[0;34m\u001b[0m\n\u001b[1;32m      4\u001b[0m \u001b[0mfoo\u001b[0m \u001b[0;34m=\u001b[0m \u001b[0;36m3\u001b[0m\u001b[0;34m\u001b[0m\u001b[0;34m\u001b[0m\u001b[0m\n\u001b[1;32m      5\u001b[0m \u001b[0;32mdel\u001b[0m \u001b[0mfoo\u001b[0m\u001b[0;34m\u001b[0m\u001b[0;34m\u001b[0m\u001b[0m\n\u001b[0;32m----> 6\u001b[0;31m \u001b[0mprint\u001b[0m\u001b[0;34m(\u001b[0m\u001b[0mfoo\u001b[0m\u001b[0;34m)\u001b[0m\u001b[0;34m\u001b[0m\u001b[0;34m\u001b[0m\u001b[0m\n\u001b[0m",
      "\u001b[0;31mNameError\u001b[0m: name 'foo' is not defined"
     ]
    }
   ],
   "source": [
    "x = 5\n",
    "y = 7\n",
    "print(x + y)\n",
    "foo = 3\n",
    "del foo\n",
    "print(foo)"
   ]
  },
  {
   "cell_type": "code",
   "execution_count": 18,
   "metadata": {},
   "outputs": [
    {
     "name": "stdout",
     "output_type": "stream",
     "text": [
      "16\n"
     ]
    }
   ],
   "source": [
    "foo = 2\n",
    "bar = 3\n",
    "del bar\n",
    "bar = 8\n",
    "print(foo * bar)"
   ]
  },
  {
   "cell_type": "code",
   "execution_count": 19,
   "metadata": {},
   "outputs": [
    {
     "name": "stdout",
     "output_type": "stream",
     "text": [
      "20\n"
     ]
    }
   ],
   "source": [
    "spam = 2\n",
    "eggs = 3\n",
    "del spam\n",
    "eggs = 4\n",
    "spam = 5\n",
    "print(spam * eggs)"
   ]
  },
  {
   "cell_type": "code",
   "execution_count": 21,
   "metadata": {},
   "outputs": [
    {
     "name": "stdout",
     "output_type": "stream",
     "text": [
      "a\n",
      "a\n",
      "?\n",
      "?\n"
     ]
    }
   ],
   "source": [
    "x = input()\n",
    "print(x)\n",
    "text = input()\n",
    "print(text)"
   ]
  },
  {
   "cell_type": "code",
   "execution_count": 22,
   "metadata": {},
   "outputs": [
    {
     "name": "stdout",
     "output_type": "stream",
     "text": [
      "Enter your name: meme\n",
      "Hello, meme\n"
     ]
    }
   ],
   "source": [
    "name = input(\"Enter your name: \")\n",
    "\n",
    "print(\"Hello, \" + name) "
   ]
  },
  {
   "cell_type": "code",
   "execution_count": 23,
   "metadata": {},
   "outputs": [
    {
     "name": "stdout",
     "output_type": "stream",
     "text": [
      "77\n",
      "77\n"
     ]
    }
   ],
   "source": [
    "age = int(input())\n",
    "print(age)  "
   ]
  },
  {
   "cell_type": "code",
   "execution_count": 25,
   "metadata": {},
   "outputs": [
    {
     "name": "stdout",
     "output_type": "stream",
     "text": [
      "His age is 42\n"
     ]
    }
   ],
   "source": [
    "age = 42\n",
    "print(\"His age is \" + str(age))  "
   ]
  },
  {
   "cell_type": "code",
   "execution_count": null,
   "metadata": {},
   "outputs": [],
   "source": []
  }
 ],
 "metadata": {
  "kernelspec": {
   "display_name": "Python 3",
   "language": "python",
   "name": "python3"
  },
  "language_info": {
   "codemirror_mode": {
    "name": "ipython",
    "version": 3
   },
   "file_extension": ".py",
   "mimetype": "text/x-python",
   "name": "python",
   "nbconvert_exporter": "python",
   "pygments_lexer": "ipython3",
   "version": "3.7.7"
  }
 },
 "nbformat": 4,
 "nbformat_minor": 4
}
