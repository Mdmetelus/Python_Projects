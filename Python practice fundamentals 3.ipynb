{
 "cells": [
  {
   "cell_type": "markdown",
   "metadata": {},
   "source": [
    "Data stuctures practice:"
   ]
  },
  {
   "cell_type": "code",
   "execution_count": null,
   "metadata": {},
   "outputs": [],
   "source": []
  },
  {
   "cell_type": "code",
   "execution_count": 1,
   "metadata": {},
   "outputs": [
    {
     "name": "stdout",
     "output_type": "stream",
     "text": [
      "kitten: meow\n",
      "puppy: ruff!\n",
      "lion: grrr\n",
      "giraffe: I am a giraffe!\n",
      "dragon: rawr\n"
     ]
    }
   ],
   "source": [
    "def main():\n",
    "    animals = {'kitten': 'meow', \n",
    "               'puppy': 'ruff!', \n",
    "               'lion': 'grrr', \n",
    "               'giraffe': 'I am a giraffe!', \n",
    "               'dragon': 'rawr' }\n",
    "    print_dict(animals)\n",
    "    \n",
    "def print_dict(o):\n",
    "    for x in o: print(f'{x}: {o[x]}')\n",
    "        \n",
    "if __name__ == '__main__': main()\n"
   ]
  },
  {
   "cell_type": "code",
   "execution_count": 2,
   "metadata": {},
   "outputs": [
    {
     "name": "stdout",
     "output_type": "stream",
     "text": [
      "kitten: meow\n",
      "puppy: ruff!\n",
      "lion: grrr\n",
      "giraffe: I am a giraffe!\n",
      "dragon: rawr\n"
     ]
    }
   ],
   "source": [
    "def main():\n",
    "    animals = dict(kitten = 'meow', \n",
    "               puppy = 'ruff!', \n",
    "               lion = 'grrr', \n",
    "               giraffe = 'I am a giraffe!', \n",
    "               dragon = 'rawr' )\n",
    "    print_dict(animals)\n",
    "    \n",
    "def print_dict(o):\n",
    "    for x in o: print(f'{x}: {o[x]}')\n",
    "        \n",
    "if __name__ == '__main__': main()\n"
   ]
  },
  {
   "cell_type": "code",
   "execution_count": 11,
   "metadata": {},
   "outputs": [
    {
     "name": "stdout",
     "output_type": "stream",
     "text": [
      "kitten\n",
      "puppy\n",
      "lion\n",
      "giraffe\n",
      "dragon\n",
      "meow\n",
      "ruff!\n",
      "grrr\n",
      "I am a giraffe!\n",
      "rawr\n",
      "kitten: meow\n",
      "puppy: ruff!\n",
      "lion: grrr\n",
      "giraffe: I am a giraffe!\n",
      "dragon: rawr\n"
     ]
    }
   ],
   "source": [
    "def main():\n",
    "    animals = dict(kitten = 'meow', puppy = 'ruff!', lion = 'grrr', giraffe = 'I am a giraffe!', dragon = 'rawr' )\n",
    "    \n",
    "    #for k, v in animals.items(): print(f'{k}: {v}')\n",
    "    for k in animals.keys(): print(f'{k}')\n",
    "    for v in animals.values(): print(v)\n",
    "    print_dict(animals)\n",
    "    \n",
    "def print_dict(o):\n",
    "    #for x in o: print(f'{x}: {o[x]}')\n",
    "    for k, v in o.items(): print(f'{k}: {v}')\n",
    "        \n",
    "if __name__ == '__main__': main()\n"
   ]
  },
  {
   "cell_type": "code",
   "execution_count": 29,
   "metadata": {},
   "outputs": [
    {
     "name": "stdout",
     "output_type": "stream",
     "text": [
      "kitten: meow\n",
      "puppy: ruff!\n",
      "lion: grrr\n",
      "giraffe: I am a giraffe!\n",
      "dragon: rawr\n",
      "\n",
      "\n",
      "\n",
      " grrr!!! Mofo!!!!\n",
      " I am a lion\n",
      "kitten: meow\n",
      "puppy: ruff!\n",
      "lion: I am a lion\n",
      "giraffe: I am a giraffe!\n",
      "dragon: rawr\n",
      "monkey: hanging around...\n",
      "True\n",
      "\n",
      "\n",
      " Got them both.\n"
     ]
    }
   ],
   "source": [
    "def main():\n",
    "    animals = dict(kitten = 'meow', puppy = 'ruff!', lion = 'grrr', giraffe = 'I am a giraffe!', dragon = 'rawr' )\n",
    "    \n",
    "    #for k, v in animals.items(): print(f'{k}: {v}')\n",
    "    #for k in animals.keys(): print(f'{k}')\n",
    "    #for v in animals.values(): print(v)\n",
    "    print_dict(animals)\n",
    "    \n",
    "    print('\\n\\n\\n', animals['lion'], end='!!! Mofo!!!!', flush=True)\n",
    "    animals['lion'] = 'I am a lion'\n",
    "    print('\\n', animals['lion'],flush=True)\n",
    "    \n",
    "    animals['monkey'] = 'hanging around...'\n",
    "    \n",
    "    print_dict(animals)\n",
    "    print('monkey' in animals)\n",
    "    print('\\n\\n Got them both.' if 'monkey' and 'lion' in animals else 'who let the animals out?!?!')\n",
    "    \n",
    "def print_dict(o):\n",
    "    #for x in o: print(f'{x}: {o[x]}')\n",
    "    for k, v in o.items(): print(f'{k}: {v}')\n",
    "        \n",
    "if __name__ == '__main__': main()\n"
   ]
  },
  {
   "cell_type": "markdown",
   "metadata": {},
   "source": [
    "Sets data types:"
   ]
  },
  {
   "cell_type": "code",
   "execution_count": 36,
   "metadata": {},
   "outputs": [
    {
     "name": "stdout",
     "output_type": "stream",
     "text": [
      "{W'don abri.etg} \n",
      "\n",
      "{t' mIoaDfri.cv,dnhyes} \n",
      "\n",
      "{ '.Wabdeginort} \n",
      "\n",
      "{ ',.DIacdefhimnorstvy} \n",
      "\n",
      "{Wgb} \n",
      "\n",
      "{Iv,hmfDysc} \n",
      "\n",
      "{tbgW' mIoaDfri.cdv,nhyes} \n",
      "\n",
      "{IDfcbgWv,mhys} \n",
      "\n",
      "{'don ari.et} \n",
      "\n"
     ]
    }
   ],
   "source": [
    "def main():\n",
    "    a = set(\"We're gonna need a bigger boat.\")\n",
    "    b = set(\"I'm sorry, Dave. I'm afraid I can't do that.\")\n",
    "    print_set(a)\n",
    "    print_set(b)\n",
    "    print_set(sorted(a))\n",
    "    print_set(sorted(b))\n",
    "    \n",
    "    print_set( a - b) # only in a\n",
    "    print_set( b - a) # only in b\n",
    "    print_set(a | b) # in a or b or both\n",
    "    print_set(a ^ b ) # only in a or only in b\n",
    "    print_set( a & b) # only in both\n",
    "    \n",
    "def print_set(o):\n",
    "    print('{', end = '')\n",
    "    for x in o: print(x, end = '')\n",
    "    print('}',\"\\n\")\n",
    "    \n",
    "if __name__ == '__main__': main()\n",
    "    \n",
    "# an unordered list of the uniques characters in each string."
   ]
  },
  {
   "cell_type": "code",
   "execution_count": 42,
   "metadata": {},
   "outputs": [
    {
     "name": "stdout",
     "output_type": "stream",
     "text": [
      "0 1 2 3 4 5 6 7 8 9 10 \n",
      "0 2 4 6 8 10 12 14 16 18 20 \n",
      "1 2 4 5 7 8 10 \n",
      "(0, 0) (1, 1) (2, 4) (3, 9) (4, 16) (5, 25) (6, 36) (7, 49) (8, 64) (9, 81) (10, 100) \n"
     ]
    }
   ],
   "source": [
    "def main():\n",
    "    seq = range(11)\n",
    "    seq2 = [x * 2 for x in seq]\n",
    "    seq3 = [x for x in seq if x % 3 != 0]\n",
    "    seq4 = [(x, x**2) for x in seq]\n",
    "    print_list(seq)\n",
    "    print_list(seq2)\n",
    "    print_list(seq3)\n",
    "    print_list(seq4)\n",
    "    \n",
    "def print_list(o):\n",
    "    for x in o: print(x, end = ' ', flush=True)\n",
    "    print()\n",
    "\n",
    "if __name__ ==\"__main__\": main()"
   ]
  },
  {
   "cell_type": "code",
   "execution_count": 44,
   "metadata": {},
   "outputs": [
    {
     "name": "stdout",
     "output_type": "stream",
     "text": [
      "3.0 3.1 3.14 3.142 3.1416 3.14159 3.141593 3.1415927 3.14159265 3.141592654 3.1415926536 \n"
     ]
    }
   ],
   "source": [
    "def main():\n",
    "    seq = range(11)\n",
    "    from math import pi\n",
    "    seq5 = [round(pi, i) for i in seq] # created a list\n",
    "    print_list(seq5)\n",
    "    #seq2 = [x * 2 for x in seq]\n",
    "    #seq3 = [x for x in seq if x % 3 != 0]\n",
    "    #seq4 = [(x, x**2) for x in seq]\n",
    "    #print_list(seq)\n",
    "    #print_list(seq2)\n",
    "    \n",
    "    \n",
    "def print_list(o):\n",
    "    for x in o: print(x, end = ' ', flush=True)\n",
    "    print()\n",
    "\n",
    "if __name__ ==\"__main__\": main()"
   ]
  },
  {
   "cell_type": "code",
   "execution_count": 45,
   "metadata": {},
   "outputs": [
    {
     "name": "stdout",
     "output_type": "stream",
     "text": [
      "{0: 0, 1: 1, 2: 4, 3: 9, 4: 16, 5: 25, 6: 36, 7: 49, 8: 64, 9: 81, 10: 100}\n"
     ]
    }
   ],
   "source": [
    "def main():\n",
    "    seq = range(11)\n",
    "    from math import pi\n",
    "    seq6 = { x: x**2 for x in seq} # created a dictionary(dict)\n",
    "    print(seq6) # cant use print list for the Dict.\n",
    "    \n",
    "    \n",
    "def print_list(o):\n",
    "    for x in o: print(x, end = ' ', flush=True)\n",
    "    print()\n",
    "\n",
    "if __name__ ==\"__main__\": main()"
   ]
  },
  {
   "cell_type": "code",
   "execution_count": 46,
   "metadata": {},
   "outputs": [
    {
     "name": "stdout",
     "output_type": "stream",
     "text": [
      "e r u s \n"
     ]
    }
   ],
   "source": [
    "def main():\n",
    "    seq = range(11)\n",
    "    from math import pi\n",
    "    seq7 = {x for x in 'superduper' if x not in 'pd' } \n",
    "    #this give you a set of all the \n",
    "    #unique/nonrepeted letters not p or d. \n",
    "    print_list(seq7) \n",
    "    \n",
    "    \n",
    "def print_list(o):\n",
    "    for x in o: print(x, end = ' ', flush=True)\n",
    "    print()\n",
    "\n",
    "if __name__ ==\"__main__\": main()"
   ]
  },
  {
   "cell_type": "code",
   "execution_count": 54,
   "metadata": {},
   "outputs": [
    {
     "name": "stdout",
     "output_type": "stream",
     "text": [
      "[ [ 1 'two' 3 { 4: 'four' } 5 ] \n",
      "[ 0 1 2 3 4 5 6 7 8 9 10 ] \n",
      "{ ' ' '!' \"'\" 'I' 'S' 'a' 'b' 'd' 'e' 'i' 'l' 'm' 'n' 'p' 'r' 's' 't' 'u' } \n",
      "{ one: [ 0 1 2 3 4 5 6 7 8 9 10 ] two: [ 1 'two' 3 { 4: 'four' } 5 ] three: { ' ' '!' \"'\" 'I' 'S' 'a' 'b' 'd' 'e' 'i' 'l' 'm' 'n' 'p' 'r' 's' 't' 'u' } } \n",
      "( 'one' 'two' Nada 'four' 'five' ) \n",
      "] \n"
     ]
    }
   ],
   "source": [
    "dlevel = 0\n",
    "\n",
    "def main():\n",
    "    r = range(11)\n",
    "    l = [1, 'two', 3, {'4': 'four'}, 5]\n",
    "    t = ('one', 'two', None, 'four', 'five')\n",
    "    s = set(\"It's a bird! It's a plane! It's Superman!\")\n",
    "    d = dict(one = r, two = l, three = s)\n",
    "    mixed = [l, r, s, d, t]\n",
    "    disp(mixed)\n",
    "    \n",
    "def disp(o):\n",
    "    global dlevel\n",
    "    \n",
    "    dlevel += 1\n",
    "    if isinstance(o, list): print_list(o)\n",
    "    elif isinstance(o, range): print_list(o)\n",
    "    elif isinstance(o, tuple): print_tuple(o)\n",
    "    elif isinstance(o, set): print_set(o)\n",
    "    elif isinstance(o, dict): print_dict(o)\n",
    "    elif o is None: print('Nada', end=' ', flush=True)\n",
    "    else: print(repr(o), end=' ', flush=True)\n",
    "    dlevel -= 1\n",
    "    \n",
    "    if dlevel <= 1: print() # newline after outer\n",
    "        \n",
    "def print_list(o):\n",
    "    print('[', end=' ')\n",
    "    for x in o: disp(x)\n",
    "    print(']', end=' ', flush = True)\n",
    "    \n",
    "def print_tuple(o):\n",
    "    print('(', end= ' ')\n",
    "    for x in o: disp(x)\n",
    "    print(')', end=' ', flush=True)\n",
    "    \n",
    "def print_set(o):\n",
    "    print('{', end=' ')\n",
    "    for x in sorted(o): disp(x)\n",
    "    print('}', end=' ', flush=True)\n",
    "    \n",
    "def print_dict(o):\n",
    "    print('{', end=' ')\n",
    "    for k, v in o.items():\n",
    "        print(k, end=': ')\n",
    "        disp(v)\n",
    "    print('}', end= ' ', flush=True)\n",
    "    \n",
    "if __name__ == '__main__': main()"
   ]
  },
  {
   "cell_type": "markdown",
   "metadata": {},
   "source": [
    "Class Practice:"
   ]
  },
  {
   "cell_type": "code",
   "execution_count": 55,
   "metadata": {},
   "outputs": [
    {
     "name": "stdout",
     "output_type": "stream",
     "text": [
      "Quack quack.\n",
      "Walks like a duck.\n"
     ]
    }
   ],
   "source": [
    "class Duck:\n",
    "    sound = 'Quack quack.'\n",
    "    movement ='Walks like a duck.'\n",
    "    \n",
    "    def quack(self):\n",
    "        print(self.sound)\n",
    "        \n",
    "    def move(self):\n",
    "        print(self.movement)\n",
    "        \n",
    "def main():\n",
    "    donald = Duck()\n",
    "    donald.quack()\n",
    "    donald.move()\n",
    "    \n",
    "    \n",
    "if __name__ == '__main__': main()"
   ]
  },
  {
   "cell_type": "code",
   "execution_count": 57,
   "metadata": {},
   "outputs": [
    {
     "name": "stdout",
     "output_type": "stream",
     "text": [
      "The kitten is named \"fluffy\" and says \"rwar\".\n",
      "The duck is named \"donald\" and says \"quack\".\n",
      "The velociraptor is named \"veronica\" and says \"hello\".\n"
     ]
    }
   ],
   "source": [
    "class Animal:\n",
    "    def __init__(self, type, name, sound):\n",
    "        self._type = type\n",
    "        self._name = name\n",
    "        self._sound = sound\n",
    "        \n",
    "    def type(self):\n",
    "        return self._type\n",
    "\n",
    "    def name(self):\n",
    "        return self._name\n",
    "    \n",
    "    def sound(self):\n",
    "        return self._sound\n",
    "    \n",
    "def print_animal(o):\n",
    "    if not isinstance(o, Animal):\n",
    "        raise TypeError('print_animal(): requires an Animal')\n",
    "    print('The {} is named \"{}\" and says \"{}\".'.format(o.type(), o.name(), o.sound()))\n",
    "    \n",
    "def main():\n",
    "    a0 = Animal('kitten', 'fluffy', 'rwar')\n",
    "    a1 = Animal('duck', 'donald', 'quack')\n",
    "    print_animal(a0)\n",
    "    print_animal(a1)\n",
    "    print_animal(Animal('velociraptor', 'veronica', 'hello'))\n",
    "    \n",
    "if __name__ == '__main__': main()\n",
    "    # animal constructor object"
   ]
  },
  {
   "cell_type": "code",
   "execution_count": 59,
   "metadata": {},
   "outputs": [
    {
     "name": "stdout",
     "output_type": "stream",
     "text": [
      "The kitten is named \"fluffy\" and says \"rwar\".\n",
      "The duck is named \"donald\" and says \"quack\".\n",
      "The velociraptor is named \"veronica\" and says \"hello\".\n",
      "The Hoodie  is named \"homie Gee\" and says \"skeeyoo!!\".\n"
     ]
    }
   ],
   "source": [
    "class Animal:\n",
    "    def __init__(self, **kwargs):\n",
    "        self._type = kwargs['type'] if 'type' in kwargs else 'Hoodie '\n",
    "        self._name = kwargs['name'] if 'type' in kwargs else 'homie Gee'\n",
    "        self._sound = kwargs['sound'] if 'type' in kwargs else 'skeeyoo!!'\n",
    "        \n",
    "    def type(self):\n",
    "        return self._type\n",
    "\n",
    "    def name(self):\n",
    "        return self._name\n",
    "    \n",
    "    def sound(self):\n",
    "        return self._sound\n",
    "    \n",
    "def print_animal(o):\n",
    "    if not isinstance(o, Animal):\n",
    "        raise TypeError('print_animal(): requires an Animal')\n",
    "    print('The {} is named \"{}\" and says \"{}\".'.format(o.type(), o.name(), o.sound()))\n",
    "    \n",
    "def main():\n",
    "    a0 = Animal(type = 'kitten', name = 'fluffy', sound = 'rwar')\n",
    "    a1 = Animal(type = 'duck', name = 'donald', sound = 'quack')\n",
    "    print_animal(a0)\n",
    "    print_animal(a1)\n",
    "    print_animal(Animal(type = 'velociraptor', name = 'veronica', sound = 'hello'))\n",
    "    print_animal(Animal())\n",
    "    \n",
    "if __name__ == '__main__': main()\n",
    "    # animal constructor object"
   ]
  },
  {
   "cell_type": "code",
   "execution_count": 65,
   "metadata": {},
   "outputs": [
    {
     "name": "stdout",
     "output_type": "stream",
     "text": [
      "The kitten is named \"fluffy\" and says \"bark\".\n",
      "The duck is named \"donald\" and says \"quack\".\n",
      "The velociraptor is named \"veronica\" and says \"hello\".\n",
      "The Hoodie  is named \"homie Gee\" and says \"skeeyoo!!\".\n"
     ]
    }
   ],
   "source": [
    "class Animal:\n",
    "    def __init__(self, **kwargs):\n",
    "        self._type = kwargs['type'] if 'type' in kwargs else 'Hoodie '\n",
    "        self._name = kwargs['name'] if 'type' in kwargs else 'homie Gee'\n",
    "        self._sound = kwargs['sound'] if 'type' in kwargs else 'skeeyoo!!'\n",
    "        \n",
    "    def type(self, t = None):\n",
    "        if  t: self._type = t\n",
    "        return self._type\n",
    "\n",
    "    def name(self, n = None):\n",
    "        if n: self._name = n\n",
    "        return self._name\n",
    "    \n",
    "    def sound(self, s = None):\n",
    "        if s: self._sound = s\n",
    "        return self._sound\n",
    "    \n",
    "    def __str__(self):  #nmaed method(special method)\n",
    "        return f'The {self.type()} is named \"{self.name()}\" and says \"{self.sound()}\".'\n",
    "    \n",
    "\n",
    "def main():\n",
    "    a0 = Animal(type = 'kitten', name = 'fluffy', sound = 'rwar')\n",
    "    a1 = Animal(type = 'duck', name = 'donald', sound = 'quack')\n",
    "    a0.sound('bark')\n",
    "    print(a0)\n",
    "    print(a1)\n",
    "    print(Animal(type = 'velociraptor', name = 'veronica', sound = 'hello'))\n",
    "    print(Animal())\n",
    "    \n",
    "if __name__ == '__main__': main()\n",
    "    # animal constructor object"
   ]
  },
  {
   "cell_type": "markdown",
   "metadata": {},
   "source": [
    "File IO:"
   ]
  },
  {
   "cell_type": "code",
   "execution_count": null,
   "metadata": {},
   "outputs": [],
   "source": [
    "def main():\n",
    "    f = Open(lines.txt)\n",
    "    for line in f:\n",
    "        print(line.rstrip())\n",
    "if __name__ == '__main__': main()"
   ]
  },
  {
   "cell_type": "code",
   "execution_count": null,
   "metadata": {},
   "outputs": [],
   "source": []
  }
 ],
 "metadata": {
  "kernelspec": {
   "display_name": "Python 3",
   "language": "python",
   "name": "python3"
  },
  "language_info": {
   "codemirror_mode": {
    "name": "ipython",
    "version": 3
   },
   "file_extension": ".py",
   "mimetype": "text/x-python",
   "name": "python",
   "nbconvert_exporter": "python",
   "pygments_lexer": "ipython3",
   "version": "3.7.7"
  }
 },
 "nbformat": 4,
 "nbformat_minor": 2
}
