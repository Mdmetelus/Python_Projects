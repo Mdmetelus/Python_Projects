{
 "cells": [
  {
   "cell_type": "code",
   "execution_count": 1,
   "metadata": {},
   "outputs": [
    {
     "name": "stdout",
     "output_type": "stream",
     "text": [
      "Hello, World. 42\n"
     ]
    }
   ],
   "source": [
    "x = 42\n",
    "print('Hello, World. {}'.format(x))\n",
    "\n",
    "Var = 'Ely manning says, \"Blue {}!\"'.format(x)"
   ]
  },
  {
   "cell_type": "code",
   "execution_count": 5,
   "metadata": {},
   "outputs": [
    {
     "name": "stdout",
     "output_type": "stream",
     "text": [
      "Ely Manning says, \"Blue 42!\"\n"
     ]
    }
   ],
   "source": [
    "x = 42\n",
    "Var = 'Ely Manning says, \"Blue {}!\"'.format(x)\n",
    "print(Var)"
   ]
  },
  {
   "cell_type": "code",
   "execution_count": 6,
   "metadata": {},
   "outputs": [
    {
     "name": "stdout",
     "output_type": "stream",
     "text": [
      "Hello, World. 32\n"
     ]
    }
   ],
   "source": [
    "z = 32\n",
    "print('Hello, World. {}'.format(z))"
   ]
  },
  {
   "cell_type": "code",
   "execution_count": 1,
   "metadata": {},
   "outputs": [
    {
     "name": "stdout",
     "output_type": "stream",
     "text": [
      "Hello, World. 32\n"
     ]
    }
   ],
   "source": [
    "z = 32\n",
    "print('Hello, World. {}'.format(z))\n"
   ]
  },
  {
   "cell_type": "code",
   "execution_count": 9,
   "metadata": {},
   "outputs": [
    {
     "name": "stdout",
     "output_type": "stream",
     "text": [
      "a < b; a is 42 and b is 73\n",
      "line 2\n",
      "line 3\n",
      "line 4\n",
      "something else\n"
     ]
    }
   ],
   "source": [
    "a = 42\n",
    "b = 73\n",
    "\n",
    "if a < b:\n",
    "    print ('a < b; a is {} and b is {}'.format(a, b))\n",
    "    print('line 2')\n",
    "    print('line 3')\n",
    "    print('line 4')\n",
    "        \n",
    "print('something else')"
   ]
  },
  {
   "cell_type": "code",
   "execution_count": 8,
   "metadata": {},
   "outputs": [
    {
     "name": "stdout",
     "output_type": "stream",
     "text": [
      "line 4\n",
      "something else\n"
     ]
    }
   ],
   "source": [
    "a = 42\n",
    "b = 73\n",
    "\n",
    "if a > b:\n",
    "    print ('a < b; a is {} and b is {}'.format(a, b))\n",
    "    print('line 2')\n",
    "    print('line 3')\n",
    "print('line 4')\n",
    "        \n",
    "print('something else')"
   ]
  },
  {
   "cell_type": "code",
   "execution_count": 7,
   "metadata": {},
   "outputs": [
    {
     "name": "stdout",
     "output_type": "stream",
     "text": [
      "a < b; a is 42 and b is 73\n",
      "line 2\n",
      "line 3\n",
      "line 4\n",
      "z is 112\n"
     ]
    }
   ],
   "source": [
    "a = 42\n",
    "b = 73\n",
    "\n",
    "if a < b:\n",
    "    z = 112\n",
    "    print ('a < b; a is {} and b is {}'.format(a, b))\n",
    "    print('line 2')\n",
    "    print('line 3')\n",
    "    print('line 4')\n",
    "        \n",
    "print('z is {}'.format(z))"
   ]
  },
  {
   "cell_type": "code",
   "execution_count": 20,
   "metadata": {},
   "outputs": [
    {
     "name": "stdout",
     "output_type": "stream",
     "text": [
      "c < d; c is 42 and d is 73\n"
     ]
    }
   ],
   "source": [
    "c = 42\n",
    "d = 73\n",
    "\n",
    "if c > d:\n",
    "    print ('c > d; c is {} and d is {}'.format(c, d))\n",
    "    print('line 2')\n",
    "    print('line 3')\n",
    "    print('line 4')\n",
    "elif c < d:\n",
    "    print ('c < d; c is {} and d is {}'.format(c, d))\n",
    "else:\n",
    "    print('do something else now!')"
   ]
  },
  {
   "cell_type": "code",
   "execution_count": 19,
   "metadata": {},
   "outputs": [
    {
     "name": "stdout",
     "output_type": "stream",
     "text": [
      "c == d:c is 44 and d is 44\n"
     ]
    }
   ],
   "source": [
    "c = 44\n",
    "d = 44\n",
    "\n",
    "if c > d:\n",
    "    print ('c > d; c is {} and d is {}'.format(c, d))\n",
    "    print('line 2')\n",
    "    print('line 3')\n",
    "    print('line 4')\n",
    "elif c < d:\n",
    "    print ('c < d; c is {} and d is {}'.format(c, d))\n",
    "elif c == d:\n",
    "    print('c == d:c is {} and d is {}'.format(c, d))\n",
    "else:\n",
    "    print('do something else now!')"
   ]
  },
  {
   "cell_type": "code",
   "execution_count": 21,
   "metadata": {},
   "outputs": [
    {
     "name": "stdout",
     "output_type": "stream",
     "text": [
      "do fourty two stuff\n"
     ]
    }
   ],
   "source": [
    "o = 42\n",
    "p = 42\n",
    "\n",
    "if o == 5:\n",
    "    print('do five stuff')\n",
    "elif o == 6:\n",
    "    print('do six stuff')\n",
    "elif o == 7:\n",
    "    print('do seven stuff')\n",
    "elif o == 8:\n",
    "    print('do eight stuff')\n",
    "elif o == 42:\n",
    "    print('do fourty two stuff')\n",
    "else:\n",
    "    print('Get Back!!!!')"
   ]
  },
  {
   "cell_type": "code",
   "execution_count": 24,
   "metadata": {},
   "outputs": [
    {
     "name": "stdout",
     "output_type": "stream",
     "text": [
      "do fourty two \"stuff's\"\n"
     ]
    }
   ],
   "source": [
    "o = 42\n",
    "p = 42\n",
    "\n",
    "if o == 5:\n",
    "    print('do five stuff')\n",
    "elif o == 6:\n",
    "    print('do six stuff')\n",
    "elif o == 7:\n",
    "    print('do seven stuff')\n",
    "elif o == 8:\n",
    "    print('do eight stuff')\n",
    "elif o == 42:\n",
    "    print('do fourty two \"stuff\\'s\"')\n",
    "else:\n",
    "    print('Get Back!!!!')"
   ]
  },
  {
   "cell_type": "code",
   "execution_count": 25,
   "metadata": {},
   "outputs": [
    {
     "name": "stdout",
     "output_type": "stream",
     "text": [
      "Get Back!!!!\n"
     ]
    }
   ],
   "source": [
    "o = 142\n",
    "p = 42\n",
    "\n",
    "if o == 5:\n",
    "    print('do five stuff')\n",
    "elif o == 6:\n",
    "    print('do six stuff')\n",
    "elif o == 7:\n",
    "    print('do seven stuff')\n",
    "elif o == 8:\n",
    "    print('do eight stuff')\n",
    "elif o == 42:\n",
    "    print('do fourty two \"stuff\\'s\"')\n",
    "else:\n",
    "    print('Get Back!!!!')"
   ]
  },
  {
   "cell_type": "code",
   "execution_count": 27,
   "metadata": {},
   "outputs": [
    {
     "name": "stdout",
     "output_type": "stream",
     "text": [
      "do five stuff\n"
     ]
    }
   ],
   "source": [
    "o = 5\n",
    "p = 42\n",
    "\n",
    "if o == 5:\n",
    "    print('do five stuff')\n",
    "elif o == 6:\n",
    "    print('do six stuff')\n",
    "elif o == 7:\n",
    "    print('do seven stuff')\n",
    "elif o == 8:\n",
    "    print('do eight stuff')\n",
    "elif o == 42:\n",
    "    print('do fourty two \"stuff\\'s\"')\n",
    "else:\n",
    "    print('Get Back!!!!')"
   ]
  },
  {
   "cell_type": "code",
   "execution_count": null,
   "metadata": {},
   "outputs": [],
   "source": [
    "words = ['one', 'two','three', 'four', 'five']\n",
    "\n",
    "n = 0\n",
    "while(n < 5):\n",
    "    print(words[n])\n",
    "    \n",
    "    "
   ]
  },
  {
   "cell_type": "code",
   "execution_count": 9,
   "metadata": {},
   "outputs": [
    {
     "name": "stdout",
     "output_type": "stream",
     "text": [
      "1, 1, 2, 3, 5, 8, 13, 21, 34, 55, 89, 144, 233, 377, 610, 987, \n"
     ]
    }
   ],
   "source": [
    "a, b = 0, 1\n",
    "while b < 1000:\n",
    "    print(b, end = ', ', flush = True)\n",
    "    a, b = b, a + b\n",
    "    \n",
    "print() # line ending"
   ]
  },
  {
   "cell_type": "code",
   "execution_count": 3,
   "metadata": {},
   "outputs": [
    {
     "name": "stdout",
     "output_type": "stream",
     "text": [
      "47\n"
     ]
    }
   ],
   "source": [
    "def funct1(x):\n",
    "    print(x)\n",
    "\n",
    "funct1(47)"
   ]
  },
  {
   "cell_type": "code",
   "execution_count": 5,
   "metadata": {},
   "outputs": [
    {
     "name": "stdout",
     "output_type": "stream",
     "text": [
      "1\n"
     ]
    }
   ],
   "source": [
    "def funct2(n = 1):\n",
    "    print(n)\n",
    "\n",
    "funct2()"
   ]
  },
  {
   "cell_type": "code",
   "execution_count": 6,
   "metadata": {},
   "outputs": [
    {
     "name": "stdout",
     "output_type": "stream",
     "text": [
      "55\n"
     ]
    }
   ],
   "source": [
    "def funct2(s = 1):\n",
    "    print(s)\n",
    "\n",
    "funct2(55)"
   ]
  },
  {
   "cell_type": "code",
   "execution_count": 7,
   "metadata": {},
   "outputs": [
    {
     "name": "stdout",
     "output_type": "stream",
     "text": [
      "1 \n",
      "1 \n",
      "2 \n",
      "3 \n",
      "5 \n",
      "8 \n",
      "13 \n",
      "21 \n",
      "34 \n",
      "55 \n",
      "89 \n",
      "144 \n",
      "233 \n",
      "377 \n",
      "610 \n",
      "987 \n"
     ]
    }
   ],
   "source": [
    "a, b = 0, 1\n",
    "while b < 1000:\n",
    "    print(b, end = ' ', flush = True)\n",
    "    a, b = b, a + b\n",
    "\n",
    "    print() # line ending"
   ]
  },
  {
   "cell_type": "code",
   "execution_count": 10,
   "metadata": {},
   "outputs": [
    {
     "name": "stdout",
     "output_type": "stream",
     "text": [
      "one\n",
      "two\n",
      "three\n",
      "four\n",
      "five\n"
     ]
    }
   ],
   "source": [
    "words = ['one', 'two', 'three', 'four', 'five']\n",
    "\n",
    "for i in words:\n",
    "    print(i)"
   ]
  },
  {
   "cell_type": "code",
   "execution_count": 14,
   "metadata": {},
   "outputs": [
    {
     "name": "stdout",
     "output_type": "stream",
     "text": [
      "3\n",
      "3\n",
      "5\n",
      "4\n",
      "4\n"
     ]
    }
   ],
   "source": [
    "words = ['one', 'two', 'three', 'four', 'five']\n",
    "for i in words:\n",
    "    print(len(i))"
   ]
  },
  {
   "cell_type": "code",
   "execution_count": 18,
   "metadata": {},
   "outputs": [
    {
     "name": "stdout",
     "output_type": "stream",
     "text": [
      "one\n",
      "0 Before\n",
      "1 After\n",
      "two\n",
      "1 Before\n",
      "2 After\n",
      "three\n",
      "2 Before\n",
      "3 After\n",
      "four\n",
      "3 Before\n",
      "4 After\n",
      "five\n",
      "4 Before\n",
      "5 After\n",
      "--loop complete--\n"
     ]
    }
   ],
   "source": [
    "words = ['one', 'two', 'three', 'four', 'five']\n",
    "count = 0\n",
    "for i in words:\n",
    "    print(i)\n",
    "    print(count, 'Before')\n",
    "    count +=1\n",
    "    print(count, 'After')\n",
    "    if count % 5 == 0:\n",
    "        print('--loop complete--')\n",
    "    "
   ]
  },
  {
   "cell_type": "code",
   "execution_count": 19,
   "metadata": {},
   "outputs": [
    {
     "name": "stdout",
     "output_type": "stream",
     "text": [
      "one\n",
      "- 0 Before\n",
      "- 1 After\n",
      "two\n",
      "- 1 Before\n",
      "- 2 After\n",
      "three\n",
      "- 2 Before\n",
      "- 3 After\n",
      "four\n",
      "- 3 Before\n",
      "- 4 After\n",
      "five\n",
      "- 4 Before\n",
      "- 5 After\n",
      "--loop complete--\n"
     ]
    }
   ],
   "source": [
    "words = ['one', 'two', 'three', 'four', 'five']\n",
    "count = 0\n",
    "for i in words:\n",
    "    print(i)\n",
    "    print('-', count, 'Before')\n",
    "    count +=1\n",
    "    print('-', count, 'After')\n",
    "    if count % 5 == 0:\n",
    "        print('--loop complete--')\n",
    "    "
   ]
  },
  {
   "cell_type": "code",
   "execution_count": 21,
   "metadata": {},
   "outputs": [
    {
     "name": "stdout",
     "output_type": "stream",
     "text": [
      "0\n"
     ]
    }
   ],
   "source": [
    "def function(n = 0):\n",
    "    print(n)\n",
    "\n",
    "function()"
   ]
  },
  {
   "cell_type": "code",
   "execution_count": 22,
   "metadata": {},
   "outputs": [
    {
     "name": "stdout",
     "output_type": "stream",
     "text": [
      "42\n",
      "None\n"
     ]
    }
   ],
   "source": [
    "def function(n = 0):\n",
    "    print(n)\n",
    "\n",
    "x = function(42)\n",
    "print(x)"
   ]
  },
  {
   "cell_type": "code",
   "execution_count": 23,
   "metadata": {},
   "outputs": [
    {
     "name": "stdout",
     "output_type": "stream",
     "text": [
      "42\n",
      "168\n"
     ]
    }
   ],
   "source": [
    "def function(n = 0):\n",
    "    print(n)\n",
    "    return n * 4  \n",
    "\n",
    "x = function(42)\n",
    "print(x)"
   ]
  },
  {
   "cell_type": "code",
   "execution_count": 25,
   "metadata": {},
   "outputs": [
    {
     "name": "stdout",
     "output_type": "stream",
     "text": [
      "5 is prime\n"
     ]
    }
   ],
   "source": [
    "def isPrime(n):\n",
    "    if n <= 1:\n",
    "        return False\n",
    "    for x in range(2, n):\n",
    "        if n % x == 0:\n",
    "            return False\n",
    "    else:\n",
    "        return True\n",
    "\n",
    "n = 5\n",
    "if isPrime(n):\n",
    "    print(f'{n} is prime')\n",
    "else:\n",
    "    print(f'{n} i not prime')"
   ]
  },
  {
   "cell_type": "code",
   "execution_count": 1,
   "metadata": {},
   "outputs": [
    {
     "name": "stdout",
     "output_type": "stream",
     "text": [
      "2 3 5 7 11 13 17 19 23 29 31 37 41 43 47 53 59 61 67 71 73 79 83 89 97 101 103 107 109 113 127 131 137 139 149 151 157 163 167 173 179 181 191 193 197 199 211 223 227 229 233 239 241 251 257 263 269 271 277 281 283 293 307 311 313 317 331 337 347 349 353 359 367 373 379 383 389 397 \n"
     ]
    }
   ],
   "source": [
    "def isPrime(n):\n",
    "    if n <= 1:\n",
    "        return False\n",
    "    for x in range(2, n):\n",
    "        if n % x == 0:\n",
    "            return False\n",
    "    else:\n",
    "        return True\n",
    "\n",
    "def list_primes():\n",
    "    for n in range(400):\n",
    "        if isPrime(n):\n",
    "            print(n, end=' ', flush=True)\n",
    "    print()\n",
    "    \n",
    "list_primes()"
   ]
  },
  {
   "cell_type": "markdown",
   "metadata": {},
   "source": [
    "Objects practice:\n"
   ]
  },
  {
   "cell_type": "code",
   "execution_count": 2,
   "metadata": {},
   "outputs": [
    {
     "name": "stdout",
     "output_type": "stream",
     "text": [
      "Quack!!\n",
      "Walks like a Duck.\n"
     ]
    }
   ],
   "source": [
    "class Duck:\n",
    "    def quack(self):\n",
    "        print('Quack!!')\n",
    "        \n",
    "    def walk(self):\n",
    "        print('Walks like a Duck.')\n",
    "        \n",
    "def main():\n",
    "    donald = Duck()\n",
    "    donald.quack()\n",
    "    donald.walk()\n",
    "    \n",
    "if __name__ == '__main__': main()"
   ]
  },
  {
   "cell_type": "code",
   "execution_count": 3,
   "metadata": {},
   "outputs": [
    {
     "name": "stdout",
     "output_type": "stream",
     "text": [
      "Quackers!!!\n",
      "Walking like a Duck.\n"
     ]
    }
   ],
   "source": [
    "class Duck2:\n",
    "    sound = 'Quackers!!!'\n",
    "    walking = 'Walking like a Duck.'\n",
    "    \n",
    "    def quack2(self):\n",
    "        print(self.sound)\n",
    "        \n",
    "    def walk2(self):\n",
    "        print(self.walking)\n",
    "    \n",
    "def main():\n",
    "    scrudge = Duck2()\n",
    "    scrudge.quack2()\n",
    "    scrudge.walk2()\n",
    "\n",
    "if __name__ == '__main__': main()"
   ]
  },
  {
   "cell_type": "markdown",
   "metadata": {},
   "source": [
    "Types and some values:"
   ]
  },
  {
   "cell_type": "code",
   "execution_count": 4,
   "metadata": {},
   "outputs": [
    {
     "name": "stdout",
     "output_type": "stream",
     "text": [
      "x is 7\n",
      "<class 'int'>\n"
     ]
    }
   ],
   "source": [
    "x = 7\n",
    "print('x is {}'.format(x))\n",
    "print(type(x))"
   ]
  },
  {
   "cell_type": "code",
   "execution_count": 6,
   "metadata": {},
   "outputs": [
    {
     "name": "stdout",
     "output_type": "stream",
     "text": [
      "x is 7.7\n",
      "<class 'float'>\n"
     ]
    }
   ],
   "source": [
    "y = 7.7\n",
    "print('x is {}'.format(y))\n",
    "print(type(y))"
   ]
  },
  {
   "cell_type": "code",
   "execution_count": 8,
   "metadata": {},
   "outputs": [
    {
     "name": "stdout",
     "output_type": "stream",
     "text": [
      "x is \"All of the numbers\"\n",
      "<class 'str'>\n"
     ]
    }
   ],
   "source": [
    "z = '\"All of the numbers\"'\n",
    "print('x is {}'.format(z))\n",
    "print(type(z))"
   ]
  },
  {
   "cell_type": "code",
   "execution_count": 11,
   "metadata": {},
   "outputs": [
    {
     "name": "stdout",
     "output_type": "stream",
     "text": [
      "w is False\n",
      "<class 'bool'>\n"
     ]
    }
   ],
   "source": [
    "w = False\n",
    "print('w is {}'.format(w))\n",
    "print(type(w))"
   ]
  },
  {
   "cell_type": "code",
   "execution_count": 12,
   "metadata": {},
   "outputs": [
    {
     "name": "stdout",
     "output_type": "stream",
     "text": [
      "q is g\n",
      "<class 'str'>\n"
     ]
    }
   ],
   "source": [
    "q = 'g'\n",
    "print('q is {}'.format(q))\n",
    "print(type(q))"
   ]
  },
  {
   "cell_type": "code",
   "execution_count": 13,
   "metadata": {},
   "outputs": [
    {
     "name": "stdout",
     "output_type": "stream",
     "text": [
      "r is None\n",
      "<class 'NoneType'>\n"
     ]
    }
   ],
   "source": [
    "r = None\n",
    "print('r is {}'.format(r))\n",
    "print(type(r))"
   ]
  },
  {
   "cell_type": "code",
   "execution_count": 15,
   "metadata": {},
   "outputs": [
    {
     "name": "stdout",
     "output_type": "stream",
     "text": [
      "t is seven\n",
      "<class 'str'>\n"
     ]
    }
   ],
   "source": [
    "t = 'seven'\n",
    "print('t is {}'.format(t))\n",
    "print(type(t))"
   ]
  },
  {
   "cell_type": "code",
   "execution_count": 16,
   "metadata": {},
   "outputs": [
    {
     "name": "stdout",
     "output_type": "stream",
     "text": [
      "t is Seven\n",
      "<class 'str'>\n"
     ]
    }
   ],
   "source": [
    "t = 'seven'.capitalize()\n",
    "print('t is {}'.format(t))\n",
    "print(type(t))"
   ]
  },
  {
   "cell_type": "code",
   "execution_count": 18,
   "metadata": {},
   "outputs": [
    {
     "name": "stdout",
     "output_type": "stream",
     "text": [
      "k is SEVEN\n",
      "<class 'str'>\n"
     ]
    }
   ],
   "source": [
    "k = 'seven'.upper()\n",
    "print('k is {}'.format(k))\n",
    "print(type(k))"
   ]
  },
  {
   "cell_type": "code",
   "execution_count": 21,
   "metadata": {},
   "outputs": [
    {
     "name": "stdout",
     "output_type": "stream",
     "text": [
      "l is Sevens\n",
      "<class 'str'>\n"
     ]
    }
   ],
   "source": [
    "l = 'sEvEnS'.lower().capitalize()\n",
    "print('l is {}'.format(l))\n",
    "print(type(l))"
   ]
  },
  {
   "cell_type": "code",
   "execution_count": 22,
   "metadata": {},
   "outputs": [
    {
     "name": "stdout",
     "output_type": "stream",
     "text": [
      "k is seven 8 9\n",
      "<class 'str'>\n"
     ]
    }
   ],
   "source": [
    "k = 'seven {} {}'.format(8, 9)\n",
    "print('k is {}'.format(k))\n",
    "print(type(k))"
   ]
  },
  {
   "cell_type": "code",
   "execution_count": 24,
   "metadata": {},
   "outputs": [
    {
     "name": "stdout",
     "output_type": "stream",
     "text": [
      "x is seven 8 9\n",
      "<class 'str'> <class 'int'> <class 'int'>\n"
     ]
    }
   ],
   "source": [
    "a = 8\n",
    "b = 9\n",
    "x = f'seven {a} {b}'\n",
    "print('x is {}'.format(x))\n",
    "print(type(x),type(a), type(b))"
   ]
  },
  {
   "cell_type": "code",
   "execution_count": 28,
   "metadata": {},
   "outputs": [
    {
     "name": "stdout",
     "output_type": "stream",
     "text": [
      "x is 0.00\n",
      "<class 'decimal.Decimal'>\n"
     ]
    }
   ],
   "source": [
    "from decimal import *\n",
    "\n",
    "a = Decimal('.10')\n",
    "b = Decimal('.30')\n",
    "x = a + a + a  - b\n",
    "print('x is {}'.format(x))\n",
    "print(type(x))"
   ]
  },
  {
   "cell_type": "code",
   "execution_count": 29,
   "metadata": {},
   "outputs": [
    {
     "name": "stdout",
     "output_type": "stream",
     "text": [
      "x is 5.551115123125783e-17\n",
      "<class 'float'>\n"
     ]
    }
   ],
   "source": [
    "x = .1 + .1 + .1  - .3\n",
    "print('x is {}'.format(x))\n",
    "print(type(x))"
   ]
  },
  {
   "cell_type": "code",
   "execution_count": 30,
   "metadata": {},
   "outputs": [
    {
     "name": "stdout",
     "output_type": "stream",
     "text": [
      "x is False\n",
      "<class 'bool'>\n"
     ]
    }
   ],
   "source": [
    "x = 5 < 3\n",
    "print('x is {}'.format(x))\n",
    "print(type(x))"
   ]
  },
  {
   "cell_type": "code",
   "execution_count": 31,
   "metadata": {},
   "outputs": [
    {
     "name": "stdout",
     "output_type": "stream",
     "text": [
      "x is True\n",
      "<class 'bool'>\n"
     ]
    }
   ],
   "source": [
    "x = 5 > 3\n",
    "print('x is {}'.format(x))\n",
    "print(type(x))"
   ]
  },
  {
   "cell_type": "code",
   "execution_count": 32,
   "metadata": {},
   "outputs": [
    {
     "name": "stdout",
     "output_type": "stream",
     "text": [
      "x is None\n",
      "<class 'NoneType'>\n",
      "False\n"
     ]
    }
   ],
   "source": [
    "x = None\n",
    "print('x is {}'.format(x))\n",
    "print(type(x))\n",
    "\n",
    "if x:\n",
    "    print('True')\n",
    "else:\n",
    "    print('False')"
   ]
  },
  {
   "cell_type": "code",
   "execution_count": 33,
   "metadata": {},
   "outputs": [
    {
     "name": "stdout",
     "output_type": "stream",
     "text": [
      "x is 0\n",
      "<class 'int'>\n",
      "False\n"
     ]
    }
   ],
   "source": [
    "x = 0\n",
    "print('x is {}'.format(x))\n",
    "print(type(x))\n",
    "\n",
    "if x:\n",
    "    print('True')\n",
    "else:\n",
    "    print('False')"
   ]
  },
  {
   "cell_type": "code",
   "execution_count": 34,
   "metadata": {},
   "outputs": [
    {
     "name": "stdout",
     "output_type": "stream",
     "text": [
      "x is 22\n",
      "<class 'int'>\n",
      "True\n"
     ]
    }
   ],
   "source": [
    "x = 22\n",
    "print('x is {}'.format(x))\n",
    "print(type(x))\n",
    "\n",
    "if x:\n",
    "    print('True')\n",
    "else:\n",
    "    print('False')"
   ]
  },
  {
   "cell_type": "code",
   "execution_count": 35,
   "metadata": {},
   "outputs": [
    {
     "name": "stdout",
     "output_type": "stream",
     "text": [
      "i is 1\n",
      "i is 2\n",
      "i is 3\n",
      "i is 4\n",
      "i is 5\n"
     ]
    }
   ],
   "source": [
    "x = [1, 2, 3, 4, 5]\n",
    "for i in x:\n",
    "    print('i is {}'.format(i))\n",
    "    "
   ]
  },
  {
   "cell_type": "code",
   "execution_count": 37,
   "metadata": {},
   "outputs": [
    {
     "name": "stdout",
     "output_type": "stream",
     "text": [
      "i is 1 <class 'int'> 10914496\n",
      "i is 2 <class 'int'> 10914528\n",
      "i is 33 <class 'int'> 10915520\n",
      "i is 4 <class 'int'> 10914592\n",
      "i is 5 <class 'int'> 10914624\n"
     ]
    }
   ],
   "source": [
    "# lists can have data modified in it.\n",
    "x = [1, 2, 3, 4, 5]\n",
    "x[2] = 33\n",
    "for i in x:\n",
    "    print('i is {}'.format(i), type(i), id(i))"
   ]
  },
  {
   "cell_type": "code",
   "execution_count": 39,
   "metadata": {},
   "outputs": [
    {
     "name": "stdout",
     "output_type": "stream",
     "text": [
      "i is 1 <class 'int'> 10914496\n",
      "i is 2 <class 'int'> 10914528\n",
      "i is 3 <class 'int'> 10914560\n",
      "i is 4 <class 'int'> 10914592\n",
      "i is 5 <class 'int'> 10914624\n"
     ]
    }
   ],
   "source": [
    "# A tuple can't have data modified in it.\n",
    "x = (1, 2, 3, 4, 5)\n",
    "#x[2] = 33\n",
    "for i in x:\n",
    "    print('i is {}'.format(i), type(i), id(i))"
   ]
  },
  {
   "cell_type": "code",
   "execution_count": 41,
   "metadata": {},
   "outputs": [
    {
     "name": "stdout",
     "output_type": "stream",
     "text": [
      "i is 0 in this range\n",
      "i is 1 in this range\n",
      "i is 2 in this range\n",
      "i is 3 in this range\n",
      "i is 4 in this range\n",
      "i is 5 in this range\n",
      "i is 6 in this range\n",
      "i is 7 in this range\n",
      "i is 8 in this range\n",
      "i is 9 in this range\n"
     ]
    }
   ],
   "source": [
    "x = range(10)\n",
    "for i in x:\n",
    "    print('i is {} in this range'.format(i))\n"
   ]
  },
  {
   "cell_type": "code",
   "execution_count": 42,
   "metadata": {},
   "outputs": [
    {
     "name": "stdout",
     "output_type": "stream",
     "text": [
      "i is 0\n",
      "0\n",
      "i is 1\n",
      "2\n",
      "i is 2\n",
      "4\n",
      "i is 3\n",
      "6\n",
      "i is 4\n",
      "8\n",
      "i is 5\n",
      "10\n",
      "i is 6\n",
      "12\n",
      "i is 7\n",
      "14\n",
      "i is 8\n",
      "16\n",
      "i is 9\n",
      "18\n",
      "i is 10\n",
      "20\n",
      "i is 11\n",
      "22\n",
      "i is 12\n",
      "24\n",
      "i is 13\n",
      "26\n",
      "i is 14\n",
      "28\n"
     ]
    }
   ],
   "source": [
    "x = range(15)\n",
    "for i in x:\n",
    "    print('i is {}'.format(i))\n",
    "    print(i * 2)"
   ]
  },
  {
   "cell_type": "code",
   "execution_count": 45,
   "metadata": {},
   "outputs": [
    {
     "name": "stdout",
     "output_type": "stream",
     "text": [
      "i is 9\n",
      "skip\n",
      "i is 10\n",
      "20\n",
      "i is 11\n",
      "skip\n",
      "i is 12\n",
      "24\n",
      "i is 13\n",
      "skip\n",
      "i is 14\n",
      "28\n"
     ]
    }
   ],
   "source": [
    "x = range(9, 15)\n",
    "for i in x:\n",
    "    print('i is {}'.format(i))\n",
    "    if i % 2 == 0:\n",
    "        print(i * 2)\n",
    "    else:\n",
    "        print('skip')"
   ]
  },
  {
   "cell_type": "code",
   "execution_count": 46,
   "metadata": {},
   "outputs": [
    {
     "name": "stdout",
     "output_type": "stream",
     "text": [
      "i is 4\n",
      "i is 7\n",
      "i is 10\n",
      "i is 13\n",
      "i is 16\n",
      "i is 19\n",
      "i is 22\n",
      "i is 25\n",
      "i is 28\n",
      "i is 31\n",
      "i is 34\n",
      "i is 37\n"
     ]
    }
   ],
   "source": [
    "x = range(4, 38, 3) # step by 3 (start , end, step)\n",
    "for i in x:\n",
    "    print('i is {}'.format(i))\n"
   ]
  },
  {
   "cell_type": "code",
   "execution_count": 47,
   "metadata": {},
   "outputs": [
    {
     "name": "stdout",
     "output_type": "stream",
     "text": [
      "bla is 0\n",
      "bla is 1\n",
      "bla is 2\n",
      "bla is 3\n",
      "bla is 4\n",
      "bla is 5\n",
      "bla is 6\n",
      "bla is 7\n",
      "bla is 8\n",
      "bla is 9\n"
     ]
    }
   ],
   "source": [
    "x = list(range(10)) # gives you a mutible list in the range of\n",
    "for bla in x:\n",
    "    print('bla is {}'.format(bla))\n",
    "\n"
   ]
  },
  {
   "cell_type": "code",
   "execution_count": 55,
   "metadata": {},
   "outputs": [
    {
     "name": "stdout",
     "output_type": "stream",
     "text": [
      "bla is 0\n",
      "bla is 1\n",
      "bla is 2\n",
      "bla is 3\n",
      "bla is 4\n",
      "bla is 777\n",
      "bla is 6\n",
      "bla is 7\n",
      "bla is 8\n",
      "bla is 9\n"
     ]
    }
   ],
   "source": [
    "x = list(range(10)) # gives you a mutible list in the range of\n",
    "x[5] = 777\n",
    "for bla in x:\n",
    "    print('bla is {}'.format(bla))"
   ]
  },
  {
   "cell_type": "code",
   "execution_count": 56,
   "metadata": {},
   "outputs": [
    {
     "name": "stdout",
     "output_type": "stream",
     "text": [
      "i is one\n",
      "i is two\n",
      "i is three\n",
      "i is four\n",
      "i is five\n"
     ]
    }
   ],
   "source": [
    "x = { 'one': 1, 'two': 2, 'three': 3, 'four': 4, 'five': 5 }\n",
    "for i in x:\n",
    "    print('i is {}'.format(i))"
   ]
  },
  {
   "cell_type": "code",
   "execution_count": 57,
   "metadata": {},
   "outputs": [
    {
     "name": "stdout",
     "output_type": "stream",
     "text": [
      "k: one, v: 1\n",
      "k: two, v: 2\n",
      "k: three, v: 3\n",
      "k: four, v: 4\n",
      "k: five, v: 5\n"
     ]
    }
   ],
   "source": [
    "x = { 'one': 1, 'two': 2, 'three': 3, 'four': 4, 'five': 5 }\n",
    "for k, v in x.items():\n",
    "    print('k: {}, v: {}'.format(k, v))"
   ]
  },
  {
   "cell_type": "code",
   "execution_count": null,
   "metadata": {},
   "outputs": [],
   "source": []
  }
 ],
 "metadata": {
  "kernelspec": {
   "display_name": "Python 3",
   "language": "python",
   "name": "python3"
  },
  "language_info": {
   "codemirror_mode": {
    "name": "ipython",
    "version": 3
   },
   "file_extension": ".py",
   "mimetype": "text/x-python",
   "name": "python",
   "nbconvert_exporter": "python",
   "pygments_lexer": "ipython3",
   "version": "3.7.7"
  }
 },
 "nbformat": 4,
 "nbformat_minor": 2
}
